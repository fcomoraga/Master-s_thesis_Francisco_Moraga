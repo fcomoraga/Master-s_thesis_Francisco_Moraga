{
 "cells": [
  {
   "cell_type": "markdown",
   "metadata": {},
   "source": [
    "# **3. 100 MW hybrid solar plant (CSP + PV)**"
   ]
  },
  {
   "cell_type": "code",
   "execution_count": 77,
   "metadata": {},
   "outputs": [],
   "source": [
    "import pandas as pd\n",
    "import numpy as np\n",
    "import matplotlib.pyplot as plt\n",
    "import math"
   ]
  },
  {
   "cell_type": "code",
   "execution_count": 78,
   "metadata": {},
   "outputs": [],
   "source": [
    "%store -r gen_pv\n",
    "%store -r Production_pv\n",
    "%store -r LCOE_pv_2021\n",
    "%store -r LCOE_pv_2030\n",
    "%store -r month_pv"
   ]
  },
  {
   "cell_type": "markdown",
   "metadata": {},
   "source": [
    "**3.1.Defining Dispatch Schedules**"
   ]
  },
  {
   "cell_type": "markdown",
   "metadata": {},
   "source": [
    "$gen_{csp}=base \\ load - gen_{pv}$   \n",
    "$gen_{csp}=100000[kW] - gen_{pv}$  \n",
    "$gen_{csp}=gen_{residual}$  \n",
    "$x\\cdot Power \\ Design=gen_{residual}$  \n",
    "$x=\\frac{gen_{residual}}{Power \\ Design }$  \n",
    "$x = Turbine \\ \\ ouput \\ \\ fraction$"
   ]
  },
  {
   "cell_type": "code",
   "execution_count": 79,
   "metadata": {},
   "outputs": [],
   "source": [
    "gen_residual=100000-np.array(gen_pv)\n",
    "#T_fraction=gen_residual/(0.9*P_ref*1000)\n",
    "T_fraction=gen_residual/(100*1000)"
   ]
  },
  {
   "cell_type": "code",
   "execution_count": 80,
   "metadata": {},
   "outputs": [],
   "source": [
    "Table_Jan=pd.DataFrame(T_fraction[0:744].reshape([31,24])).round(3)\n",
    "Table_Feb=pd.DataFrame(T_fraction[744:1416].reshape([28,24])).round(3)\n",
    "Table_Mar=pd.DataFrame(T_fraction[1416:2160].reshape([31,24])).round(3)\n",
    "Table_Apr=pd.DataFrame(T_fraction[2160:2880].reshape([30,24])).round(3)\n",
    "Table_May=pd.DataFrame(T_fraction[2880:3624].reshape([31,24])).round(3)\n",
    "Table_Jun=pd.DataFrame(T_fraction[3624:4344].reshape([30,24])).round(3)\n",
    "Table_Jul=pd.DataFrame(T_fraction[4344:5088].reshape([31,24])).round(3)\n",
    "Table_Aug=pd.DataFrame(T_fraction[5088:5832].reshape([31,24])).round(3)\n",
    "Table_Sept=pd.DataFrame(T_fraction[5832:6552].reshape([30,24])).round(3)\n",
    "Table_Oct=pd.DataFrame(T_fraction[6552:7296].reshape([31,24])).round(3)\n",
    "Table_Nov=pd.DataFrame(T_fraction[7296:8016].reshape([30,24])).round(3)\n",
    "Table_Dec=pd.DataFrame(T_fraction[8016:8760].reshape([31,24])).round(3)\n",
    "\n",
    "Table_annual=[Table_Jan,Table_Feb,Table_Mar,Table_Apr,Table_May,Table_Jun,Table_Jul,Table_Aug,Table_Sept,Table_Oct,Table_Nov,Table_Dec]"
   ]
  },
  {
   "cell_type": "code",
   "execution_count": 81,
   "metadata": {},
   "outputs": [],
   "source": [
    "def Prod_Day(i):\n",
    "  Day=[Table_Jan.iloc[i],Table_Feb.iloc[i],Table_Mar.iloc[i],Table_Apr.iloc[i],Table_May.iloc[i],Table_Jun.iloc[i],Table_Jul.iloc[i],Table_Aug.iloc[i],Table_Sept.iloc[i],Table_Oct.iloc[i],Table_Nov.iloc[i],Table_Dec.iloc[i]]\n",
    "  Day=pd.DataFrame(Day)\n",
    "  Day.index=range(0,12)\n",
    "  return Day\n",
    "\n",
    "Daily_factors=[]\n",
    "for i in range(0,28):\n",
    "  Daily_factors.append(Prod_Day(i))"
   ]
  },
  {
   "cell_type": "code",
   "execution_count": 82,
   "metadata": {},
   "outputs": [],
   "source": [
    "Prod_28=[Table_Jan.iloc[28],np.zeros_like(Table_Jan.iloc[28]),Table_Mar.iloc[28],Table_Apr.iloc[28],Table_May.iloc[28],Table_Jun.iloc[28],Table_Jul.iloc[28],Table_Aug.iloc[28],Table_Sept.iloc[28],Table_Oct.iloc[28],Table_Nov.iloc[28],Table_Dec.iloc[28]]\n",
    "Prod_28=pd.DataFrame(Prod_28)\n",
    "Prod_28.index=range(0,12)\n",
    "Daily_factors.append(Prod_28)\n",
    "\n",
    "Prod_29=[Table_Jan.iloc[29],np.zeros_like(Table_Jan.iloc[29]),Table_Mar.iloc[29],Table_Apr.iloc[29],Table_May.iloc[29],Table_Jun.iloc[29],Table_Jul.iloc[29],Table_Aug.iloc[29],Table_Sept.iloc[29],Table_Oct.iloc[29],Table_Nov.iloc[29],Table_Dec.iloc[29]]\n",
    "Prod_29=pd.DataFrame(Prod_29)\n",
    "Prod_29.index=range(0,12)\n",
    "Daily_factors.append(Prod_29)\n",
    "\n",
    "Prod_30=[Table_Jan.iloc[30],np.zeros_like(Table_Jan.iloc[30]),Table_Mar.iloc[30],np.zeros_like(Table_Jan.iloc[30]),Table_May.iloc[30],np.zeros_like(Table_Jan.iloc[30]),Table_Jul.iloc[30],Table_Aug.iloc[30],np.zeros_like(Table_Jan.iloc[30]),Table_Oct.iloc[30],np.zeros_like(Table_Jan.iloc[30]),Table_Dec.iloc[30]]\n",
    "Prod_30=pd.DataFrame(Prod_30)\n",
    "Prod_30.index=range(0,12)\n",
    "Daily_factors.append(Prod_30)"
   ]
  },
  {
   "cell_type": "code",
   "execution_count": 83,
   "metadata": {},
   "outputs": [],
   "source": [
    "def Dispatch_Control(day,Daily_factors):\n",
    "  Daily_factors_T=Daily_factors[day].T\n",
    "  df1=pd.DataFrame()\n",
    "  df2=pd.DataFrame()\n",
    "  df3=pd.DataFrame()\n",
    "  for i in range(0,12):\n",
    "    min=Daily_factors_T[i].min()\n",
    "    max=Daily_factors_T[i].max()\n",
    "    delta=(max-min)/8\n",
    "    if min!=0 and max!=0 :\n",
    "      df1[i]=pd.cut(Daily_factors_T[i], bins=[min-delta,min,min+delta,min+2*delta,min+3*delta,min+4*delta,min+5*delta,min+6*delta,min+7*delta,max], labels=[min,min+delta,min+2*delta,min+3*delta,min+4*delta,min+5*delta,min+6*delta,min+7*delta,max])\n",
    "      df2[i]=pd.cut(Daily_factors_T[i], bins=[min-delta,min,min+delta,min+2*delta,min+3*delta,min+4*delta,min+5*delta,min+6*delta,min+7*delta,max], labels=[1,2,3,4,5,6,7,8,9])\n",
    "      df3[i]=[min,min+delta,min+2*delta,min+3*delta,min+4*delta,min+5*delta,min+6*delta,min+7*delta,max]\n",
    "    else:\n",
    "      df1[i]=np.ones(24)\n",
    "      df2[i]=np.ones(24)\n",
    "      df3[i]=np.ones(9)\n",
    "  df1=df1.T\n",
    "  df2=df2.T\n",
    "  return [df1,df2,df3]"
   ]
  },
  {
   "cell_type": "code",
   "execution_count": 84,
   "metadata": {},
   "outputs": [],
   "source": [
    "List_1=[] #List of standardized values\n",
    "List_2=[] # Dispatch control\n",
    "List_3=[] # f_turb values\n",
    "for i in range(0,31):\n",
    "  df=Dispatch_Control(i,Daily_factors)\n",
    "  df1=df[0]\n",
    "  df2=df[1]\n",
    "  df3=df[2]\n",
    "  List_1.append(df1)\n",
    "  List_2.append(df2)\n",
    "  List_3.append(df3)"
   ]
  },
  {
   "cell_type": "code",
   "execution_count": 85,
   "metadata": {},
   "outputs": [],
   "source": [
    "for i in range(31):\n",
    "  List_3[i] = List_3[i].apply(lambda x: [y if y >= 0.3 else 0.3 for y in x])"
   ]
  },
  {
   "cell_type": "markdown",
   "metadata": {},
   "source": [
    "**3.2 Model Initialization**"
   ]
  },
  {
   "cell_type": "code",
   "execution_count": 86,
   "metadata": {},
   "outputs": [],
   "source": [
    "import PySAM.Solarpilot as sp\n",
    "import PySAM.TcsmoltenSalt as tcs\n",
    "system_model_hybrid = tcs.default('MSPTSingleOwner')\n",
    "%matplotlib inline"
   ]
  },
  {
   "cell_type": "markdown",
   "metadata": {},
   "source": [
    "**3.3 SolarResource Group**"
   ]
  },
  {
   "cell_type": "code",
   "execution_count": 87,
   "metadata": {},
   "outputs": [],
   "source": [
    "system_model_hybrid.SolarResource.solar_resource_file=\"Antofagasta.csv\""
   ]
  },
  {
   "cell_type": "markdown",
   "metadata": {},
   "source": [
    "**3.4 System Design Group**"
   ]
  },
  {
   "cell_type": "code",
   "execution_count": 88,
   "metadata": {},
   "outputs": [],
   "source": [
    "P_ref=111 #[MW]\n",
    "Cycle_th_eff=0.412\n",
    "S_M=2.5\n",
    "Cycle_th_P=P_ref/Cycle_th_eff\n",
    "tshours=15\n",
    "system_model_hybrid.SystemDesign.P_ref=P_ref\n",
    "system_model_hybrid.SystemDesign.solarm=S_M"
   ]
  },
  {
   "cell_type": "code",
   "execution_count": 89,
   "metadata": {},
   "outputs": [],
   "source": [
    "model_opt1=sp.from_existing(system_model_hybrid)\n",
    "model_opt1.SolarPILOT.helio_optical_error=0.00153\n",
    "model_opt1.SolarPILOT.q_design=round(S_M*Cycle_th_P)\n",
    "model_opt1.SolarPILOT.rec_aspect=21.6029/17.65\n",
    "model_opt1.execute()"
   ]
  },
  {
   "cell_type": "code",
   "execution_count": 90,
   "metadata": {},
   "outputs": [],
   "source": [
    "system_model_hybrid.SystemDesign.tshours=tshours\n",
    "system_model_hybrid.HeliostatField.helio_positions=model_opt1.Outputs.heliostat_positions\n",
    "system_model_hybrid.TowerAndReceiver.h_tower=model_opt1.Outputs.h_tower_opt\n",
    "system_model_hybrid.TowerAndReceiver.rec_height=model_opt1.Outputs.rec_height_opt\n",
    "system_model_hybrid.HeliostatField.N_hel=model_opt1.Outputs.number_heliostats\n",
    "system_model_hybrid.TowerAndReceiver.D_rec=model_opt1.Outputs.rec_height_opt/model_opt1.Outputs.rec_aspect_opt\n",
    "#system_model_hybrid.HeliostatField.A_sf_in=model_opt1.Outputs.area_sf\n",
    "system_model_hybrid.HeliostatField.A_sf_in=model_opt1.SolarPILOT.helio_width*model_opt1.SolarPILOT.dens_mirror*model_opt1.SolarPILOT.helio_height*model_opt1.Outputs.number_heliostats"
   ]
  },
  {
   "cell_type": "code",
   "execution_count": 91,
   "metadata": {},
   "outputs": [],
   "source": [
    "Jan_gen=[]\n",
    "Feb_gen=[]\n",
    "Mar_gen=[]\n",
    "Apr_gen=[]\n",
    "May_gen=[]\n",
    "Jun_gen=[]\n",
    "Jul_gen=[]\n",
    "Aug_gen=[]\n",
    "Sept_gen=[]\n",
    "Oct_gen=[]\n",
    "Nov_gen=[]\n",
    "Dec_gen=[]"
   ]
  },
  {
   "cell_type": "code",
   "execution_count": 92,
   "metadata": {
    "scrolled": true
   },
   "outputs": [],
   "source": [
    "j=0\n",
    "for i in range(0,31):\n",
    "  system_model_hybrid.SystemControl.weekday_schedule=List_2[i].values.tolist()\n",
    "  system_model_hybrid.SystemControl.weekend_schedule=List_2[i].values.tolist()\n",
    "  for k in range(0,12):\n",
    "    system_model_hybrid.SystemControl.f_turb_tou_periods=List_3[i].round(3)[k].values.tolist()\n",
    "    system_model_hybrid.execute()\n",
    "    if k==0: \n",
    "      Jan=system_model_hybrid.Outputs.gen[0:744]\n",
    "      Jan_gen.append(Jan[j:j+24])\n",
    "    if k==1 and i!=28 and i!=29 and i!=30:\n",
    "      Feb=system_model_hybrid.Outputs.gen[744:1416]\n",
    "      Feb_gen.append(Feb[j:j+24])\n",
    "    if k==2:\n",
    "      Mar=system_model_hybrid.Outputs.gen[1416:2160]\n",
    "      Mar_gen.append(Mar[j:j+24])\n",
    "    if k==3 and i!=30: \n",
    "      Apr=system_model_hybrid.Outputs.gen[2160:2880]\n",
    "      Apr_gen.append(Apr[j:j+24])\n",
    "    if k==4:\n",
    "      May=system_model_hybrid.Outputs.gen[2880:3624]\n",
    "      May_gen.append(May[j:j+24])\n",
    "    if k==5 and i!=30: \n",
    "      Jun=system_model_hybrid.Outputs.gen[3624:4344]\n",
    "      Jun_gen.append(Jun[j:j+24])\n",
    "    if k==6:\n",
    "      Jul=system_model_hybrid.Outputs.gen[4344:5088]\n",
    "      Jul_gen.append(Jul[j:j+24])\n",
    "    if k==7:\n",
    "      Aug=system_model_hybrid.Outputs.gen[5088:5832]\n",
    "      Aug_gen.append(Aug[j:j+24])\n",
    "    if k==8 and i!=30: \n",
    "      Sept=system_model_hybrid.Outputs.gen[5832:6552]\n",
    "      Sept_gen.append(Sept[j:j+24])\n",
    "    if k==9:\n",
    "      Oct=system_model_hybrid.Outputs.gen[6552:7296]\n",
    "      Oct_gen.append(Oct[j:j+24])\n",
    "    if k==10 and i!=30: \n",
    "      Nov=system_model_hybrid.Outputs.gen[6552:7296]\n",
    "      Nov_gen.append(Nov[j:j+24])\n",
    "    if k==11:\n",
    "      Dec=system_model_hybrid.Outputs.gen[8016:8760]\n",
    "      Dec_gen.append(Dec[j:j+24])\n",
    "  j=j+24  "
   ]
  },
  {
   "cell_type": "markdown",
   "metadata": {},
   "source": [
    "**3.6. Outputs Group**"
   ]
  },
  {
   "cell_type": "code",
   "execution_count": 93,
   "metadata": {},
   "outputs": [],
   "source": [
    "gen_total=pd.DataFrame(Jan_gen+Feb_gen+Mar_gen+Apr_gen+May_gen+Jun_gen+Jul_gen+Aug_gen+Sept_gen+Oct_gen+Nov_gen+Dec_gen)"
   ]
  },
  {
   "cell_type": "code",
   "execution_count": 94,
   "metadata": {},
   "outputs": [],
   "source": [
    "gen_comb=[]\n",
    "for i in range(0,365):\n",
    "  gen_comb=gen_comb+gen_total.iloc[i].tolist()"
   ]
  },
  {
   "cell_type": "code",
   "execution_count": 95,
   "metadata": {},
   "outputs": [],
   "source": [
    "def LCOE_csp(d1,Site_prep,Solar_field,Fixed_tower_cost,Receiver_reference_cost,TES,Power_block,Contigencies,OM_fix,OM_var):\n",
    "    Sum1=0\n",
    "    Sum2=0\n",
    "    t1=7/100\n",
    "    for i in range(1,41):\n",
    "        Sum1 = Sum1 + (((1-d1)**i)/((1+t1)**i))\n",
    "        Sum2 = Sum2 + (1/((1+t1)**i))\n",
    "    Production_csp_adapted=sum(np.array(gen_comb))\n",
    "    Site_prep=Site_prep*system_model_hybrid.HeliostatField.A_sf_in\n",
    "    Solar_field=Solar_field*system_model_hybrid.HeliostatField.A_sf_in\n",
    "    Fixed_tower_cost=Fixed_tower_cost\n",
    "    Tower_scaling_exp=0.0113\n",
    "    Total_tower_cost=Fixed_tower_cost*math.exp(Tower_scaling_exp*(system_model_hybrid.TowerAndReceiver.h_tower-system_model_hybrid.TowerAndReceiver.rec_height/2+model_opt1.SolarPILOT.helio_height/2))\n",
    "    Receiver_reference_cost=Receiver_reference_cost\n",
    "    Receiver_area=math.pi*system_model_hybrid.TowerAndReceiver.D_rec*system_model_hybrid.TowerAndReceiver.rec_height\n",
    "    Receiver_reference_area=1571\n",
    "    Receiver_scaling_exponent=0.7\n",
    "    Solar_receiver=Receiver_reference_cost*(Receiver_area/Receiver_reference_area)**Receiver_scaling_exponent\n",
    "    #TES Thermal Capacity = Hours of Storage at Power Cycle Full Load × Cycle Thermal Input Power at Design\n",
    "    #Cycle Thermal Power (MWt) = Design Turbine Gross Output (MWe) ÷ Cycle Thermal Efficiency\n",
    "    Storage_capacity=(tshours*1000*P_ref)/Cycle_th_eff\n",
    "    TES=TES*Storage_capacity\n",
    "    #Balance_of_plant=290.00\n",
    "    #Power_cycle_cost=1040.00\n",
    "    #Power_block=(Balance_of_plant+Power_cycle_cost)*1000*P_ref\n",
    "    Power_block=Power_block*1000*P_ref\n",
    "    #Contigencies=5%\n",
    "\n",
    "    CAPEX1=(Site_prep+Solar_field+Total_tower_cost+Solar_receiver+TES+Power_block)*Contigencies\n",
    "\n",
    "    OPEX1=OM_fix*P_ref*1000+OM_var*Production_csp_adapted*(1/1000)\n",
    "\n",
    "    LCOE_csp_adapted=((CAPEX1+OPEX1*Sum2)/(Production_csp_adapted*Sum1))*1000\n",
    "    return(LCOE_csp_adapted)"
   ]
  },
  {
   "cell_type": "code",
   "execution_count": 96,
   "metadata": {},
   "outputs": [],
   "source": [
    "LCOE_csp_adapted_2021=LCOE_csp(0.2/100,16.00,140,3000000.00,103000000.00,22,1330,105/100,66,3.5)\n",
    "LCOE_csp_adapted_2030=LCOE_csp(0.1/100,10,50,2189781,75182481.75,10,700,102/100,44,2.3)"
   ]
  },
  {
   "cell_type": "markdown",
   "metadata": {},
   "source": [
    "# <center> $LCOE_{hybrid}=\\frac{LCOE_{PV}\\cdot E_{PV}+LCOE_{CSP}\\cdot E_{CSP}}{E_{PV}+E_{CSP}}$ <center>"
   ]
  },
  {
   "cell_type": "markdown",
   "metadata": {},
   "source": [
    "**LCOE 2021**"
   ]
  },
  {
   "cell_type": "code",
   "execution_count": 97,
   "metadata": {},
   "outputs": [
    {
     "data": {
      "text/plain": [
       "65.8414710040822"
      ]
     },
     "execution_count": 97,
     "metadata": {},
     "output_type": "execute_result"
    }
   ],
   "source": [
    "LCOE_hybrid_2021=(LCOE_csp_adapted_2021*sum(np.array(gen_comb))+LCOE_pv_2021*Production_pv)/(sum(np.array(gen_comb))+Production_pv)\n",
    "LCOE_hybrid_2021"
   ]
  },
  {
   "cell_type": "markdown",
   "metadata": {},
   "source": [
    "**LCOE 2030**"
   ]
  },
  {
   "cell_type": "code",
   "execution_count": 98,
   "metadata": {},
   "outputs": [
    {
     "data": {
      "text/plain": [
       "33.49514373889901"
      ]
     },
     "execution_count": 98,
     "metadata": {},
     "output_type": "execute_result"
    }
   ],
   "source": [
    "LCOE_hybrid_2030=(LCOE_csp_adapted_2030*sum(np.array(gen_comb))+LCOE_pv_2030*Production_pv)/(sum(np.array(gen_comb))+Production_pv)\n",
    "LCOE_hybrid_2030"
   ]
  },
  {
   "cell_type": "code",
   "execution_count": 99,
   "metadata": {},
   "outputs": [
    {
     "data": {
      "text/plain": [
       "945.05868819905"
      ]
     },
     "execution_count": 99,
     "metadata": {},
     "output_type": "execute_result"
    }
   ],
   "source": [
    "sum(np.array(gen_pv)+np.array(gen_comb))/1000000"
   ]
  },
  {
   "cell_type": "code",
   "execution_count": 100,
   "metadata": {},
   "outputs": [],
   "source": [
    "gen_with_curtailment=np.array(gen_pv)+np.array(gen_comb)*0.96\n",
    "\n",
    "for i in range(0,8760):\n",
    "  if (gen_with_curtailment[i]>100000):\n",
    "    gen_with_curtailment[i]=100000"
   ]
  },
  {
   "cell_type": "code",
   "execution_count": 101,
   "metadata": {},
   "outputs": [
    {
     "data": {
      "text/plain": [
       "824112868.0178679"
      ]
     },
     "execution_count": 101,
     "metadata": {},
     "output_type": "execute_result"
    }
   ],
   "source": [
    "sum(gen_with_curtailment)"
   ]
  },
  {
   "cell_type": "code",
   "execution_count": 102,
   "metadata": {},
   "outputs": [],
   "source": [
    "Excess_energy=gen_comb-gen_with_curtailment"
   ]
  },
  {
   "cell_type": "markdown",
   "metadata": {},
   "source": [
    "**CF - ELECT - HYBRID**"
   ]
  },
  {
   "cell_type": "code",
   "execution_count": 103,
   "metadata": {},
   "outputs": [
    {
     "data": {
      "text/plain": [
       "0.941709823999648"
      ]
     },
     "execution_count": 103,
     "metadata": {},
     "output_type": "execute_result"
    }
   ],
   "source": [
    "CF_hybrid=(sum(gen_with_curtailment))/(8760*0.9*111000)\n",
    "CF_hybrid"
   ]
  },
  {
   "cell_type": "code",
   "execution_count": 104,
   "metadata": {},
   "outputs": [],
   "source": [
    "gen_hybrid_limit=np.array(gen_with_curtailment)\n",
    "\n",
    "for i in range(0,8760):\n",
    "    if (gen_hybrid_limit[i]<100000*0.1):\n",
    "        gen_hybrid_limit[i]=0\n",
    "            \n",
    "CF_elect_hybrid_alk=sum(gen_hybrid_limit)/(8760*0.9*111000)"
   ]
  },
  {
   "cell_type": "markdown",
   "metadata": {},
   "source": [
    "# ${LCOH}_2=P_{inst}\\bullet I\\bullet\\frac{FRC+M\\left(f_p\\right)}{h{\\bullet f}_p\\bullet Q_{H_2}}+Q_{H_2O}{\\bullet P}_{H_2O}+Q_e\\bullet P_e-Q_{O_2}\\bullet P_{O_2}$\n"
   ]
  },
  {
   "cell_type": "code",
   "execution_count": 105,
   "metadata": {},
   "outputs": [],
   "source": [
    "def LCOH(I,LCOE,f_p,eff,stack_lifetime=90000,percent_remp=0.4):\n",
    "    P_inst=100 #Installed power of the electrolyser [MW]\n",
    "    i=0.07\n",
    "    h=8760 #Hours in a year\n",
    "    N_rep=stack_lifetime/(f_p*h)\n",
    "    I=I+I*percent_remp*(1-i)**N_rep\n",
    "    n=30\n",
    "    FRC=(i*((1+i)**n))/(((1+i)**n)-1)  #Capital Recovery Factor\n",
    "    M=0.05 #Maintenance cost function as a percentage of investment, dependent on plant factor\n",
    "    Q_h2=20.3 #Hydrogen production capacity [kg/h]\n",
    "    Q_H2O=0.017  #Amount of water consumed [m3/kg of hydrogen]\n",
    "    P_H2O=1.4 #Water price [USD/m3]\n",
    "    Q_e=33.3/eff  #Amount of electricity consumed [kWh/kg of hydrogen]\n",
    "    P_e=LCOE\n",
    "    Q_O2=7.8 #Sale of oxygen taking into account the quantity produced [kgO2/kg of hydrogen] (optional term)\n",
    "    P_O2=0.03 #Selling price of oxygen [USD/kgO2] (optional term)\n",
    "    LCOH = I*(FRC+M)*33.3/(h*f_p*eff)+Q_H2O*P_H2O+Q_e*P_e\n",
    "    \n",
    "    Water=Q_H2O*P_H2O\n",
    "    Electricity=Q_e*P_e\n",
    "    Electrolysis=I*(FRC+M)*33.3/(h*f_p*eff)\n",
    "    return(LCOH,Water,Electricity,Electrolysis)"
   ]
  },
  {
   "cell_type": "markdown",
   "metadata": {},
   "source": [
    "**LCOH - HYBRID - ALK - 2021**"
   ]
  },
  {
   "cell_type": "code",
   "execution_count": 106,
   "metadata": {},
   "outputs": [
    {
     "data": {
      "text/plain": [
       "3.991772755999798"
      ]
     },
     "execution_count": 106,
     "metadata": {},
     "output_type": "execute_result"
    }
   ],
   "source": [
    "LCOH_hybrid_alk_2021=LCOH(500,LCOE_hybrid_2021/1000,CF_elect_hybrid_alk,0.63,100000)[0]\n",
    "LCOH_hybrid_alk_2021"
   ]
  },
  {
   "cell_type": "code",
   "execution_count": 107,
   "metadata": {},
   "outputs": [
    {
     "name": "stdout",
     "output_type": "stream",
     "text": [
      "Stored 'LCOH_hybrid_alk_2021' (float64)\n"
     ]
    }
   ],
   "source": [
    "%store LCOH_hybrid_alk_2021"
   ]
  },
  {
   "cell_type": "markdown",
   "metadata": {},
   "source": [
    "**LCOH - HYBRID - PEM - 2021**"
   ]
  },
  {
   "cell_type": "code",
   "execution_count": 108,
   "metadata": {},
   "outputs": [
    {
     "data": {
      "text/plain": [
       "5.1621028767311286"
      ]
     },
     "execution_count": 108,
     "metadata": {},
     "output_type": "execute_result"
    }
   ],
   "source": [
    "LCOH_hybrid_PEM_2021=LCOH(1100,LCOE_hybrid_2021/1000,CF_hybrid,0.56)[0]\n",
    "LCOH_hybrid_PEM_2021"
   ]
  },
  {
   "cell_type": "code",
   "execution_count": 109,
   "metadata": {},
   "outputs": [
    {
     "name": "stdout",
     "output_type": "stream",
     "text": [
      "Stored 'LCOH_hybrid_PEM_2021' (float64)\n"
     ]
    }
   ],
   "source": [
    "%store LCOH_hybrid_PEM_2021"
   ]
  },
  {
   "cell_type": "markdown",
   "metadata": {},
   "source": [
    "**LCOH - HYBRID - ALK - 2030**"
   ]
  },
  {
   "cell_type": "code",
   "execution_count": 110,
   "metadata": {},
   "outputs": [
    {
     "data": {
      "text/plain": [
       "2.0843521583368263"
      ]
     },
     "execution_count": 110,
     "metadata": {},
     "output_type": "execute_result"
    }
   ],
   "source": [
    "LCOH_hybrid_alk_2030=LCOH(400,LCOE_hybrid_2030/1000,CF_elect_hybrid_alk,0.65,100000,0.15)[0]\n",
    "LCOH_hybrid_alk_2030"
   ]
  },
  {
   "cell_type": "markdown",
   "metadata": {},
   "source": [
    "**LCOH - HYBRID - PEM - 2030**"
   ]
  },
  {
   "cell_type": "code",
   "execution_count": 111,
   "metadata": {},
   "outputs": [
    {
     "data": {
      "text/plain": [
       "2.3750863658947314"
      ]
     },
     "execution_count": 111,
     "metadata": {},
     "output_type": "execute_result"
    }
   ],
   "source": [
    "LCOH_hybrid_PEM_2030=LCOH(650,LCOE_hybrid_2030/1000,CF_hybrid,0.63,percent_remp=0.15)[0]\n",
    "LCOH_hybrid_PEM_2030"
   ]
  },
  {
   "cell_type": "code",
   "execution_count": 112,
   "metadata": {},
   "outputs": [],
   "source": [
    "W1 = [LCOH(500,LCOE_hybrid_2021/1000,CF_elect_hybrid_alk,0.63,100000)[1],LCOH(1100,LCOE_hybrid_2021/1000,CF_hybrid,0.56)[1]]\n",
    "Electri1 = [LCOH(500,LCOE_hybrid_2021/1000,CF_elect_hybrid_alk,0.63,100000)[2],LCOH(1100,LCOE_hybrid_2021/1000,CF_hybrid,0.56)[2]]\n",
    "Electro1 = [LCOH(500,LCOE_hybrid_2021/1000,CF_elect_hybrid_alk,0.63,100000)[3],LCOH(1100,LCOE_hybrid_2021/1000,CF_hybrid,0.56)[3]]"
   ]
  },
  {
   "cell_type": "code",
   "execution_count": 113,
   "metadata": {},
   "outputs": [
    {
     "name": "stdout",
     "output_type": "stream",
     "text": [
      "Stored 'W1' (list)\n",
      "Stored 'Electri1' (list)\n",
      "Stored 'Electro1' (list)\n"
     ]
    }
   ],
   "source": [
    "%store W1\n",
    "%store Electri1\n",
    "%store Electro1 "
   ]
  },
  {
   "cell_type": "code",
   "execution_count": 114,
   "metadata": {},
   "outputs": [
    {
     "data": {
      "text/plain": [
       "Text(0.5, 1.0, 'Levelised Cost of Hydrogen - CSP + PV hybrid')"
      ]
     },
     "execution_count": 114,
     "metadata": {},
     "output_type": "execute_result"
    },
    {
     "data": {
      "image/png": "[encoded data removed]",
      "text/plain": [
       "<Figure size 432x288 with 1 Axes>"
      ]
     },
     "metadata": {
      "needs_background": "light"
     },
     "output_type": "display_data"
    }
   ],
   "source": [
    "labels = ['HYBRID-ALK-2021',\"HYBRID-PEM-2021\",\"HYBRID-ALK-2030\",\"HYBRID-PEM-2030\"]\n",
    "W = [LCOH(500,LCOE_hybrid_2021/1000,CF_elect_hybrid_alk,0.63,100000)[1],LCOH(1100,LCOE_hybrid_2021/1000,CF_hybrid,0.56)[1],LCOH(400,LCOE_hybrid_2030/1000,CF_elect_hybrid_alk,0.65,100000,0.15)[1],LCOH(650,LCOE_hybrid_2030/1000,CF_hybrid,0.63,percent_remp=0.15)[1]]\n",
    "Electri = [LCOH(500,LCOE_hybrid_2021/1000,CF_elect_hybrid_alk,0.63,100000)[2],LCOH(1100,LCOE_hybrid_2021/1000,CF_hybrid,0.56)[2],LCOH(400,LCOE_hybrid_2030/1000,CF_elect_hybrid_alk,0.65,100000,0.15)[2],LCOH(650,LCOE_hybrid_2030/1000,CF_hybrid,0.63,percent_remp=0.15)[2]]\n",
    "Electro = [LCOH(500,LCOE_hybrid_2021/1000,CF_elect_hybrid_alk,0.63,100000)[3],LCOH(1100,LCOE_hybrid_2021/1000,CF_hybrid,0.56)[3],LCOH(400,LCOE_hybrid_2030/1000,CF_elect_hybrid_alk,0.65,100000,0.15)[3],LCOH(650,LCOE_hybrid_2030/1000,CF_hybrid,0.63,percent_remp=0.15)[3]]\n",
    "width = 0.5       # the width of the bars: can also be len(x) sequence\n",
    "\n",
    "fig, ax = plt.subplots()\n",
    "\n",
    "bars = np.add(Electri, Electro).tolist()\n",
    "\n",
    "ax.bar(labels, Electri, width, label='Electricity')\n",
    "ax.bar(labels, Electro, width, bottom=Electri,label='Electrolysis')\n",
    "ax.bar(labels, W, width, bottom=bars,label='Water')\n",
    "ax.legend()\n",
    "\n",
    "ax.set_ylabel(\"USD/kg\")\n",
    "ax.set_title('Levelised Cost of Hydrogen - CSP + PV hybrid')\n",
    "\n",
    "#ax.bar(labels, women_means, width, bottom=men_means,label='Women')"
   ]
  },
  {
   "cell_type": "code",
   "execution_count": 116,
   "metadata": {},
   "outputs": [
    {
     "data": {
      "image/png": "[encoded data removed]",
      "text/plain": [
       "<Figure size 576x288 with 1 Axes>"
      ]
     },
     "metadata": {},
     "output_type": "display_data"
    }
   ],
   "source": [
    "fig, ax = plt.subplots(figsize=(8, 4), tight_layout=True, facecolor='w')\n",
    "ax.plot(pd.date_range(start='1/1/2021', end='01/01/2022',periods=8760),gen_comb,label='CSP',c=\"tab:orange\")\n",
    "ax.plot(pd.date_range(start='1/1/2021', end='01/01/2022',periods=8760),gen_pv,label='PV',c=\"tab:blue\")\n",
    "ax.plot(pd.date_range(start='1/1/2021', end='01/01/2022',periods=8760),gen_with_curtailment,label='Hybrid',  c=\"tab:green\")\n",
    "\n",
    "ax.set_ylabel('kW')\n",
    "ax.set_xlabel('Days of the year')\n",
    "#ax.set_title('Hourly energy generated by the system')\n",
    "ax.legend(loc=1, ncol=3, bbox_to_anchor=(0.7, 0.2))\n",
    "plt.savefig(\"Ejemplo2.png\")\n",
    "fig.autofmt_xdate()"
   ]
  },
  {
   "cell_type": "code",
   "execution_count": 117,
   "metadata": {},
   "outputs": [],
   "source": [
    "gen_csp=gen_comb\n",
    "Sum_Enero=sum(gen_csp[0:744])\n",
    "Sum_Febrero=sum(gen_csp[744:1416])\n",
    "Sum_Marzo=sum(gen_csp[1416:2160])\n",
    "Sum_Abril=sum(gen_csp[2160:2880])\n",
    "Sum_Mayo=sum(gen_csp[2880:3624])\n",
    "Sum_Junio=sum(gen_csp[3624:4344])\n",
    "Sum_Julio=sum(gen_csp[4344:5088])\n",
    "Sum_Agosto=sum(gen_csp[5088:5832])\n",
    "Sum_Septiembre=sum(gen_csp[5832:6552])\n",
    "Sum_Octubre=sum(gen_csp[6552:7296])\n",
    "Sum_Noviembre=sum(gen_csp[7296:8016])\n",
    "Sum_Diciembre=sum(gen_csp[8016:8760])\n",
    "\n",
    "Month =[Sum_Enero, Sum_Febrero, Sum_Marzo, Sum_Abril, Sum_Mayo, Sum_Junio, Sum_Julio, Sum_Agosto, Sum_Septiembre, Sum_Octubre, Sum_Noviembre,Sum_Diciembre]"
   ]
  },
  {
   "cell_type": "code",
   "execution_count": 118,
   "metadata": {},
   "outputs": [
    {
     "name": "stderr",
     "output_type": "stream",
     "text": [
      "<ipython-input-118-7bcc1d05fd60>:19: UserWarning: FixedFormatter should only be used together with FixedLocator\n",
      "  ax.set_xticklabels(Months)\n"
     ]
    },
    {
     "data": {
      "text/plain": [
       "[<matplotlib.axis.XTick at 0x27023ae3e50>,\n",
       " <matplotlib.axis.XTick at 0x2702de0f3d0>,\n",
       " <matplotlib.axis.XTick at 0x270287b79a0>,\n",
       " <matplotlib.axis.XTick at 0x270246aaee0>,\n",
       " <matplotlib.axis.XTick at 0x27028809970>,\n",
       " <matplotlib.axis.XTick at 0x27028809310>,\n",
       " <matplotlib.axis.XTick at 0x27028809a90>,\n",
       " <matplotlib.axis.XTick at 0x27028809370>,\n",
       " <matplotlib.axis.XTick at 0x2702886b460>,\n",
       " <matplotlib.axis.XTick at 0x270246c0ca0>,\n",
       " <matplotlib.axis.XTick at 0x2702465ed30>,\n",
       " <matplotlib.axis.XTick at 0x2702465ecd0>]"
      ]
     },
     "execution_count": 118,
     "metadata": {},
     "output_type": "execute_result"
    },
    {
     "data": {
      "image/png": "[encoded data removed]",
      "text/plain": [
       "<Figure size 576x288 with 1 Axes>"
      ]
     },
     "metadata": {},
     "output_type": "display_data"
    }
   ],
   "source": [
    "Months=[\"Jan\",\"Feb\",\"Mar\",\"Apr\",\"May\",\"Jun\",\"Jul\",\"Aug\",\"Sept\",\"Oct\",\"Nov\",\"Dec\"]\n",
    "fig, ax = plt.subplots(figsize=(8, 4), tight_layout=True, facecolor='w')\n",
    "\n",
    "ax.bar(range(12), \n",
    "       height=Month,\n",
    "       label='CSP',\n",
    "       width=0.8, bottom=0, align='center', \n",
    "       color=\"tab:orange\", edgecolor=None, linewidth=None); \n",
    "ax.bar(range(12), \n",
    "       height=month_pv,\n",
    "       bottom=Month,\n",
    "       label='PV',\n",
    "       #width=0.8, bottom=0, align='center', \n",
    "       color=\"tab:blue\", edgecolor=None, linewidth=None); \n",
    "ax.set_ylabel('kWh')\n",
    "ax.set_xlabel('Months')\n",
    "ax.set_title('Monthly system power generated')\n",
    "ax.legend(loc=1, ncol=3, bbox_to_anchor=(0.6, 1))\n",
    "ax.set_xticklabels(Months)\n",
    "ax.set_xticks(range(12))"
   ]
  },
  {
   "cell_type": "code",
   "execution_count": 120,
   "metadata": {},
   "outputs": [],
   "source": [
    "LHV=33.3 #(kWh/KgH2)\n",
    "eff_PEM=0.56\n",
    "eff_ALK=0.63\n",
    "df1=pd.DataFrame(np.array(Month)*0.96+np.array(month_pv))\n",
    "df1[\"PEM\"]=(df1[0]/(LHV/eff_PEM + 6.4))*(LHV/eff_PEM)\n",
    "df1[\"Liq\"]=(df1[0]/(LHV/eff_PEM + 6.4))*6.4\n",
    "df1[\"Alk\"]=(df1[0]/(LHV/eff_ALK + 6.4))*(LHV/eff_ALK)\n",
    "df1[\"Liq1\"]=(df1[0]/(LHV/eff_ALK + 6.4))*6.4\n",
    "df1[\"PEM1\"]=(df1[0]/(LHV/eff_PEM + 1.05))*(LHV/eff_PEM)\n",
    "df1[\"Comp\"]=(df1[0]/(LHV/eff_PEM + 1.05))*1.05\n",
    "df1[\"Alk1\"]=(df1[0]/(LHV/eff_ALK + 1.05))*(LHV/eff_ALK)\n",
    "df1[\"Comp1\"]=(df1[0]/(LHV/eff_ALK + 1.05))*1.05\n",
    "\n",
    "Months=[\"Jan\",\"Feb\",\"Mar\",\"Apr\",\"May\",\"Jun\",\"Jul\",\"Aug\",\"Sept\",\"Oct\",\"Nov\",\"Dec\"]\n",
    "df1.index=Months\n",
    "df1.columns=[\"Energy\", \"PEM\",\"Liq\",\"Alk\",\"Liq1\",\"PEM1\",\"Comp\",\"Alk1\",\"Comp1\"]"
   ]
  },
  {
   "cell_type": "code",
   "execution_count": 121,
   "metadata": {
    "scrolled": false
   },
   "outputs": [
    {
     "name": "stderr",
     "output_type": "stream",
     "text": [
      "<ipython-input-121-a3e2c7154301>:20: UserWarning: FixedFormatter should only be used together with FixedLocator\n",
      "  ax[0, 0].set_xticklabels(Months)\n",
      "<ipython-input-121-a3e2c7154301>:39: UserWarning: FixedFormatter should only be used together with FixedLocator\n",
      "  ax[0, 1].set_xticklabels(Months)\n",
      "<ipython-input-121-a3e2c7154301>:58: UserWarning: FixedFormatter should only be used together with FixedLocator\n",
      "  ax[1, 0].set_xticklabels(Months)\n",
      "<ipython-input-121-a3e2c7154301>:77: UserWarning: FixedFormatter should only be used together with FixedLocator\n",
      "  ax[1, 1].set_xticklabels(Months)\n"
     ]
    },
    {
     "data": {
      "image/png": "[encoded data removed]",
      "text/plain": [
       "<Figure size 1080x720 with 4 Axes>"
      ]
     },
     "metadata": {
      "needs_background": "light"
     },
     "output_type": "display_data"
    }
   ],
   "source": [
    "x=range(12)\n",
    "fig, ax = plt.subplots(2, 2)\n",
    "fig.set_size_inches(15, 10)\n",
    "\n",
    "ax[0, 0].bar(x=range(12), \n",
    "       height=df1[\"PEM\"],\n",
    "       label='PEM',\n",
    "       width=0.8, bottom=0, align='center', \n",
    "       color=None, edgecolor=None, linewidth=None); \n",
    "ax[0, 0].bar(x=range(12), \n",
    "       height=df1[\"Liq\"],\n",
    "       bottom=df1[\"PEM\"],\n",
    "       label='Liq',\n",
    "       #width=0.8, bottom=0, align='center', \n",
    "       color=None, edgecolor=None, linewidth=None); \n",
    "ax[0, 0].set_ylabel('kWh')\n",
    "#ax[0, 0].set_xlabel('Months')\n",
    "#ax[0, 0].set_title('Monthly system power generated')\n",
    "ax[0, 0].legend(loc=1, ncol=3, bbox_to_anchor=(0.75, 1))\n",
    "ax[0, 0].set_xticklabels(Months)\n",
    "ax[0, 0].set_xticks(range(12))\n",
    "ax[0, 0].grid(alpha=0.5,axis='y')\n",
    "\n",
    "ax[0, 1].bar(x=range(12), \n",
    "       height=df1[\"Alk\"],\n",
    "       label='Alk',\n",
    "       width=0.8, bottom=0, align='center', \n",
    "       color=None, edgecolor=None, linewidth=None); \n",
    "ax[0, 1].bar(x=range(12), \n",
    "       height=df1[\"Liq1\"],\n",
    "       bottom=df1[\"Alk\"],\n",
    "       label='Liq',\n",
    "       #width=0.8, bottom=0, align='center', \n",
    "       color=None, edgecolor=None, linewidth=None); \n",
    "ax[0, 1].set_ylabel('kWh')\n",
    "#ax[0, 1].set_xlabel('Months')\n",
    "#ax[0, 1].set_title('Monthly system power generated')\n",
    "ax[0, 1].legend(loc=1, ncol=3, bbox_to_anchor=(0.75, 1))\n",
    "ax[0, 1].set_xticklabels(Months)\n",
    "ax[0, 1].set_xticks(x)\n",
    "ax[0, 1].grid(alpha=0.5,axis='y')\n",
    "\n",
    "ax[1, 0].bar(x=range(12), \n",
    "       height=df1[\"PEM1\"],\n",
    "       label='PEM',\n",
    "       width=0.8, bottom=0, align='center', \n",
    "       color=None, edgecolor=None, linewidth=None); \n",
    "ax[1, 0].bar(x=range(12), \n",
    "       height=df1[\"Comp\"],\n",
    "       bottom=df1[\"PEM1\"],\n",
    "       label='Comp',\n",
    "       #width=0.8, bottom=0, align='center', \n",
    "       color=None, edgecolor=None, linewidth=None); \n",
    "ax[1, 0].set_ylabel('kWh')\n",
    "#ax[1, 0].set_xlabel('Months')\n",
    "#ax[1, 0].set_title('Monthly system power generated')\n",
    "ax[1, 0].legend(loc=1, ncol=3, bbox_to_anchor=(0.75, 1))\n",
    "ax[1, 0].set_xticklabels(Months)\n",
    "ax[1, 0].set_xticks(x)\n",
    "ax[1, 0].grid(alpha=0.5,axis='y')\n",
    "\n",
    "ax[1, 1].bar(x=range(12), \n",
    "       height=df1[\"Alk1\"],\n",
    "       label='Alk',\n",
    "       width=0.8, bottom=0, align='center', \n",
    "       color=None, edgecolor=None, linewidth=None); \n",
    "ax[1, 1].bar(x=range(12), \n",
    "       height=df1[\"Comp1\"],\n",
    "       bottom=df1[\"Alk1\"],\n",
    "       label='Comp',\n",
    "       #width=0.8, bottom=0, align='center', \n",
    "       color=None, edgecolor=None, linewidth=None); \n",
    "ax[1, 1].set_ylabel('kWh')\n",
    "#ax[1, 1].set_xlabel('Months')\n",
    "#ax[1, 1].set_title('Monthly system power generated')\n",
    "ax[1, 1].legend(loc=1, ncol=3, bbox_to_anchor=(0.75, 1))\n",
    "ax[1, 1].set_xticklabels(Months)\n",
    "ax[1, 1].set_xticks(x)\n",
    "ax[1, 1].grid(alpha=0.5,axis='y')"
   ]
  },
  {
   "cell_type": "code",
   "execution_count": 122,
   "metadata": {},
   "outputs": [],
   "source": [
    "gen_csp=gen_with_curtailment\n",
    "Sum_Enero=sum(gen_csp[0:744])\n",
    "Sum_Febrero=sum(gen_csp[744:1416])\n",
    "Sum_Marzo=sum(gen_csp[1416:2160])\n",
    "Sum_Abril=sum(gen_csp[2160:2880])\n",
    "Sum_Mayo=sum(gen_csp[2880:3624])\n",
    "Sum_Junio=sum(gen_csp[3624:4344])\n",
    "Sum_Julio=sum(gen_csp[4344:5088])\n",
    "Sum_Agosto=sum(gen_csp[5088:5832])\n",
    "Sum_Septiembre=sum(gen_csp[5832:6552])\n",
    "Sum_Octubre=sum(gen_csp[6552:7296])\n",
    "Sum_Noviembre=sum(gen_csp[7296:8016])\n",
    "Sum_Diciembre=sum(gen_csp[8016:8760])\n",
    "\n",
    "comb1 =np.array([Sum_Enero, Sum_Febrero, Sum_Marzo, Sum_Abril, Sum_Mayo, Sum_Junio, Sum_Julio, Sum_Agosto, Sum_Septiembre, Sum_Octubre, Sum_Noviembre,Sum_Diciembre])"
   ]
  },
  {
   "cell_type": "code",
   "execution_count": 123,
   "metadata": {},
   "outputs": [],
   "source": [
    "#2021\n",
    "\n",
    "LHV=33.3 #(kWh/KgH2)\n",
    "eff_PEM=0.56\n",
    "eff_ALK=0.63\n",
    "H2_PEM_Liq=(comb1/(LHV/eff_PEM+6.4))*(1/1000)\n",
    "H2_PEM_Comp=(comb1/(LHV/eff_PEM+1.05))*(1/1000)\n",
    "H2_Alk_Liq=(comb1/(LHV/eff_ALK+6.4))*(1/1000)\n",
    "H2_Alk_Comp=(comb1/(LHV/eff_ALK+1.05))*(1/1000)"
   ]
  },
  {
   "cell_type": "code",
   "execution_count": 124,
   "metadata": {},
   "outputs": [
    {
     "name": "stderr",
     "output_type": "stream",
     "text": [
      "<ipython-input-124-f33d6df73240>:28: UserWarning: FixedFormatter should only be used together with FixedLocator\n",
      "  ax.set_xticklabels(Months)\n"
     ]
    },
    {
     "data": {
      "image/png": "[encoded data removed]",
      "text/plain": [
       "<Figure size 576x288 with 1 Axes>"
      ]
     },
     "metadata": {},
     "output_type": "display_data"
    }
   ],
   "source": [
    "fig, ax = plt.subplots(figsize=(8, 4), tight_layout=True, facecolor='w')\n",
    "y=np.arange(12)\n",
    "width1 = 0.2\n",
    "ax.bar(y - 1.5*width1, \n",
    "       height=H2_PEM_Liq,\n",
    "       label=\"PEM - Liq\",\n",
    "       width=0.2, color=\"#4059AD\"); \n",
    "\n",
    "ax.bar(y +1.5*width1, \n",
    "       height=H2_PEM_Comp,\n",
    "       label='PEM - Comp',\n",
    "       width=0.2,color=\"#6B9AC4\"); \n",
    "\n",
    "ax.bar(y-0.5*width1, \n",
    "       height=H2_Alk_Liq,\n",
    "       label='Alk - Liq',\n",
    "       width=0.2,color=\"#97D8C4\"); \n",
    "\n",
    "ax.bar(y + 0.5*width1, \n",
    "       height=H2_Alk_Comp,\n",
    "       label='Alk - Comp',\n",
    "       width=0.2, color=\"#F4B942\"); \n",
    "       \n",
    "ax.set_ylabel('Tons of hydrogen')\n",
    "ax.set_xlabel('Months')\n",
    "#ax.set_title('Monthly Hydrogen Production 2021')\n",
    "ax.legend(loc=1, ncol=4, bbox_to_anchor=(1, 0.1))\n",
    "ax.set_xticklabels(Months)\n",
    "ax.set_xticks(y)\n",
    "ax.grid(alpha=0.5,axis='y')"
   ]
  },
  {
   "cell_type": "code",
   "execution_count": 125,
   "metadata": {},
   "outputs": [],
   "source": [
    "#2030\n",
    "LHV=33.3 #(kWh/KgH2)\n",
    "eff_PEM=0.63\n",
    "eff_ALK=0.65\n",
    "H2_PEM_Liq=(comb1/(LHV/eff_PEM+6.4))*(1/1000)\n",
    "H2_PEM_Comp=(comb1/(LHV/eff_PEM+1.05))*(1/1000)\n",
    "H2_Alk_Liq=(comb1/(LHV/eff_ALK+6.4))*(1/1000)\n",
    "H2_Alk_Comp=(comb1/(LHV/eff_ALK+1.05))*(1/1000)"
   ]
  },
  {
   "cell_type": "code",
   "execution_count": 126,
   "metadata": {},
   "outputs": [
    {
     "name": "stderr",
     "output_type": "stream",
     "text": [
      "<ipython-input-126-5eb60a101b71>:28: UserWarning: FixedFormatter should only be used together with FixedLocator\n",
      "  ax.set_xticklabels(Months)\n"
     ]
    },
    {
     "data": {
      "image/png": "[encoded data removed]",
      "text/plain": [
       "<Figure size 576x288 with 1 Axes>"
      ]
     },
     "metadata": {},
     "output_type": "display_data"
    }
   ],
   "source": [
    "fig, ax = plt.subplots(figsize=(8, 4), tight_layout=True, facecolor='w')\n",
    "y=np.arange(12)\n",
    "width1 = 0.2\n",
    "ax.bar(y - 1.5*width1, \n",
    "       height=H2_PEM_Liq,\n",
    "       label=\"PEM - Liq\",\n",
    "       width=0.2, color=\"#4059AD\"); \n",
    "\n",
    "ax.bar(y +1.5*width1, \n",
    "       height=H2_PEM_Comp,\n",
    "       label='PEM - Comp',\n",
    "       width=0.2,color=\"#6B9AC4\"); \n",
    "\n",
    "ax.bar(y-0.5*width1, \n",
    "       height=H2_Alk_Liq,\n",
    "       label='Alk - Liq',\n",
    "       width=0.2,color=\"#97D8C4\"); \n",
    "\n",
    "ax.bar(y + 0.5*width1, \n",
    "       height=H2_Alk_Comp,\n",
    "       label='Alk - Comp',\n",
    "       width=0.2, color=\"#F4B942\"); \n",
    "       \n",
    "ax.set_ylabel(\"Tons of hydrogen\")\n",
    "ax.set_xlabel('Months')\n",
    "#ax.set_title('Monthly Hydrogen Production 2021')\n",
    "ax.legend(loc=1, ncol=4, bbox_to_anchor=(1, 0.1))\n",
    "ax.set_xticklabels(Months)\n",
    "ax.set_xticks(y)\n",
    "ax.grid(alpha=0.5,axis='y')"
   ]
  },
  {
   "cell_type": "code",
   "execution_count": 127,
   "metadata": {},
   "outputs": [],
   "source": [
    "day_prod=(sum(gen_with_curtailment)/365)*0.63/33.3\n",
    "flow_max=np.array(gen_with_curtailment).max()*0.63/33.3"
   ]
  },
  {
   "cell_type": "code",
   "execution_count": 128,
   "metadata": {},
   "outputs": [],
   "source": [
    "#Compressed hydrogen gas storage system\n",
    "\n",
    "i=0.07\n",
    "n_conversion=15\n",
    "n_storage=20\n",
    "\n",
    "FRC_conversion=(i*((1+i)**n_conversion))/(((1+i)**n_conversion)-1)\n",
    "FRC_storage=(i*((1+i)**n_storage))/(((1+i)**n_storage)-1)\n",
    "\n",
    "M_storage=2/100\n",
    "M_conversion=4/100\n",
    "\n",
    "storage_module=500*day_prod*((FRC_storage+M_storage)/(sum(gen_with_curtailment)*0.63/33.3))  #USD\n",
    "conversion_module=3900*flow_max*1.05*((FRC_conversion+M_conversion)/(sum(gen_with_curtailment)*0.63/33.3))\n",
    "\n",
    "GH2=storage_module+conversion_module"
   ]
  },
  {
   "cell_type": "code",
   "execution_count": 129,
   "metadata": {},
   "outputs": [
    {
     "data": {
      "text/plain": [
       "0.23113528090517976"
      ]
     },
     "execution_count": 129,
     "metadata": {},
     "output_type": "execute_result"
    }
   ],
   "source": [
    "GH2"
   ]
  },
  {
   "cell_type": "code",
   "execution_count": 130,
   "metadata": {},
   "outputs": [],
   "source": [
    "#Liquid hydrogen\n",
    "\n",
    "i=0.07\n",
    "n_conversion=20\n",
    "n_storage=20\n",
    "\n",
    "FRC_conversion=(i*((1+i)**n_conversion))/(((1+i)**n_conversion)-1)\n",
    "FRC_storage=(i*((1+i)**n_storage))/(((1+i)**n_storage)-1)\n",
    "\n",
    "M_storage=2/100\n",
    "M_conversion=8/100\n",
    "\n",
    "\n",
    "\n",
    "storage_module=90*day_prod*((FRC_storage+M_storage)/(sum(gen_with_curtailment)*0.63/33.3))  #USD\n",
    "conversion_module=50000*flow_max*((FRC_conversion+M_conversion)/(sum(gen_with_curtailment)*0.63/33.3))\n",
    "LH2=storage_module+conversion_module"
   ]
  },
  {
   "cell_type": "code",
   "execution_count": 131,
   "metadata": {},
   "outputs": [
    {
     "data": {
      "text/plain": [
       "1.0862710465219878"
      ]
     },
     "execution_count": 131,
     "metadata": {},
     "output_type": "execute_result"
    }
   ],
   "source": [
    "LH2"
   ]
  }
 ],
 "metadata": {
  "kernelspec": {
   "display_name": "Python 3",
   "language": "python",
   "name": "python3"
  },
  "language_info": {
   "codemirror_mode": {
    "name": "ipython",
    "version": 3
   },
   "file_extension": ".py",
   "mimetype": "text/x-python",
   "name": "python",
   "nbconvert_exporter": "python",
   "pygments_lexer": "ipython3",
   "version": "3.8.5"
  }
 },
 "nbformat": 4,
 "nbformat_minor": 4
}
