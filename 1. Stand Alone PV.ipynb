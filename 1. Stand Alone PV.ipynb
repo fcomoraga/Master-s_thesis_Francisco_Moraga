{
 "cells": [
  {
   "cell_type": "markdown",
   "metadata": {},
   "source": [
    "# **1. PVWatts 100MW - Single Owner Example**"
   ]
  },
  {
   "cell_type": "code",
   "execution_count": 1,
   "metadata": {},
   "outputs": [],
   "source": [
    "import pandas as pd\n",
    "import numpy as np\n",
    "import matplotlib.pyplot as plt\n",
    "%matplotlib inline"
   ]
  },
  {
   "cell_type": "markdown",
   "metadata": {},
   "source": [
    "\n",
    "**1.1   Model Initialization**"
   ]
  },
  {
   "cell_type": "code",
   "execution_count": 2,
   "metadata": {},
   "outputs": [],
   "source": [
    "import PySAM.Pvwattsv7 as pv\n",
    "import PySAM.Singleowner as so\n",
    "system_model = pv.default('PVWattsSingleOwner')"
   ]
  },
  {
   "cell_type": "markdown",
   "metadata": {},
   "source": [
    "\n",
    "**1.2   SystemDesign Group**"
   ]
  },
  {
   "cell_type": "code",
   "execution_count": 3,
   "metadata": {},
   "outputs": [],
   "source": [
    "system_model.SystemDesign.system_capacity=100000 #kW\n",
    "system_model.SystemDesign.module_type=1\n",
    "system_model.SystemDesign.array_type=3\n",
    "system_model.SystemDesign.tilt=0\n",
    "system_model.SystemDesign.azimuth=0"
   ]
  },
  {
   "cell_type": "markdown",
   "metadata": {},
   "source": [
    "**1.3   SolarResource Group**"
   ]
  },
  {
   "cell_type": "code",
   "execution_count": 4,
   "metadata": {},
   "outputs": [],
   "source": [
    "system_model.SolarResource.solar_resource_file=\"Antofagasta.csv\""
   ]
  },
  {
   "cell_type": "markdown",
   "metadata": {},
   "source": [
    "**1.4.   Outputs Group**"
   ]
  },
  {
   "cell_type": "code",
   "execution_count": 5,
   "metadata": {},
   "outputs": [],
   "source": [
    "system_model.execute()\n",
    "gen_pv=np.array(system_model.Outputs.dc)/1000\n",
    "month_pv=system_model.Outputs.dc_monthly"
   ]
  },
  {
   "cell_type": "code",
   "execution_count": 6,
   "metadata": {},
   "outputs": [
    {
     "name": "stdout",
     "output_type": "stream",
     "text": [
      "Stored 'gen_pv' (ndarray)\n",
      "Stored 'month_pv' (tuple)\n"
     ]
    }
   ],
   "source": [
    "%store gen_pv\n",
    "%store month_pv"
   ]
  },
  {
   "cell_type": "markdown",
   "metadata": {},
   "source": [
    "**CF - PV**"
   ]
  },
  {
   "cell_type": "code",
   "execution_count": 7,
   "metadata": {},
   "outputs": [
    {
     "data": {
      "text/plain": [
       "28.966386556904826"
      ]
     },
     "execution_count": 7,
     "metadata": {},
     "output_type": "execute_result"
    }
   ],
   "source": [
    "system_model.Outputs.capacity_factor"
   ]
  },
  {
   "cell_type": "code",
   "execution_count": 8,
   "metadata": {},
   "outputs": [],
   "source": [
    "gen_pv_limit=np.array(gen_pv)\n",
    "for i in range(0,8760):\n",
    "  if (gen_pv_limit[i]<100000*0.1):\n",
    "    gen_pv_limit[i]=0"
   ]
  },
  {
   "cell_type": "markdown",
   "metadata": {},
   "source": [
    "**CF - ALK - PV**"
   ]
  },
  {
   "cell_type": "code",
   "execution_count": 9,
   "metadata": {},
   "outputs": [
    {
     "data": {
      "text/plain": [
       "0.3007837064018366"
      ]
     },
     "execution_count": 9,
     "metadata": {},
     "output_type": "execute_result"
    }
   ],
   "source": [
    "CF_pv_alk=sum(gen_pv_limit)/(100000*8760)\n",
    "CF_pv_alk"
   ]
  },
  {
   "cell_type": "markdown",
   "metadata": {},
   "source": [
    "**CF - PEM - PV**"
   ]
  },
  {
   "cell_type": "code",
   "execution_count": 10,
   "metadata": {},
   "outputs": [
    {
     "data": {
      "text/plain": [
       "0.30184630409612756"
      ]
     },
     "execution_count": 10,
     "metadata": {},
     "output_type": "execute_result"
    }
   ],
   "source": [
    "CF_pv_PEM=sum(gen_pv)/(100000*8760)\n",
    "CF_pv_PEM"
   ]
  },
  {
   "cell_type": "markdown",
   "metadata": {},
   "source": [
    "# <center> $LCOE=\\frac{\\sum_{i=0}^{N}\\frac{CAPEX_i}{\\left(1+t\\right)^i}+\\sum_{i=1}^{N}\\frac{OPEX_i}{\\left(1+t\\right)^i}}{\\sum_{i=1}^{N}\\frac{Production_i}{\\left(1+t\\right)^i}}$ <center>"
   ]
  },
  {
   "cell_type": "code",
   "execution_count": 11,
   "metadata": {},
   "outputs": [],
   "source": [
    "def LCOE_pv(d,Module,Balance,Land_prep,Installation_labor,Contingency,percent_opex):\n",
    "    Sum1=0\n",
    "    Sum2=0\n",
    "    t=0.07\n",
    "    for i in range(1,31):\n",
    "        Sum1 = Sum1 + (((1-d)**i)/((1+t)**i))\n",
    "        Sum2 = Sum2 + (1/((1+t)**i))\n",
    "    Production_pv=sum(gen_pv)\n",
    "    CAPEX= ((Module + Installation_labor+Balance)*Contingency + Land_prep)*system_model.SystemDesign.system_capacity*1000\n",
    "    OPEX=percent_opex*CAPEX\n",
    "    LCOE_pv=((CAPEX+OPEX*Sum2)/(Production_pv*Sum1))*1000\n",
    "    return LCOE_pv"
   ]
  },
  {
   "cell_type": "markdown",
   "metadata": {},
   "source": [
    "**LCOE 2021**"
   ]
  },
  {
   "cell_type": "code",
   "execution_count": 12,
   "metadata": {},
   "outputs": [
    {
     "name": "stdout",
     "output_type": "stream",
     "text": [
      "Stored 'LCOE_pv_2021' (float64)\n"
     ]
    },
    {
     "data": {
      "text/plain": [
       "30.607326460784936"
      ]
     },
     "execution_count": 12,
     "metadata": {},
     "output_type": "execute_result"
    }
   ],
   "source": [
    "LCOE_pv_2021=LCOE_pv(0.7/100,0.41,0.2,0.02,0.11,101/100,2/100) #USD/MWh\n",
    "%store LCOE_pv_2021\n",
    "LCOE_pv_2021"
   ]
  },
  {
   "cell_type": "markdown",
   "metadata": {},
   "source": [
    "**LCOE 2030**"
   ]
  },
  {
   "cell_type": "code",
   "execution_count": 13,
   "metadata": {},
   "outputs": [
    {
     "name": "stdout",
     "output_type": "stream",
     "text": [
      "Stored 'LCOE_pv_2030' (float64)\n"
     ]
    },
    {
     "data": {
      "text/plain": [
       "14.22703412243445"
      ]
     },
     "execution_count": 13,
     "metadata": {},
     "output_type": "execute_result"
    }
   ],
   "source": [
    "LCOE_pv_2030=LCOE_pv(0.5/100,0.17,0.1,0.01,0.11,101/100,1/100) #USD/MWh\n",
    "%store LCOE_pv_2030\n",
    "LCOE_pv_2030"
   ]
  },
  {
   "cell_type": "markdown",
   "metadata": {},
   "source": [
    "# ${LCOH}_2=P_{inst}\\bullet I\\bullet\\frac{FRC+M\\left(f_p\\right)}{h{\\bullet f}_p\\bullet Q_{H_2}}+Q_{H_2O}{\\bullet P}_{H_2O}+Q_e\\bullet P_e-Q_{O_2}\\bullet P_{O_2}$\n"
   ]
  },
  {
   "cell_type": "code",
   "execution_count": 14,
   "metadata": {},
   "outputs": [],
   "source": [
    "def LCOH(I,LCOE,f_p,eff,stack_lifetime=90000,percent_remp=0.4):\n",
    "    P_inst=100 #Installed power of the electrolyser [MW]\n",
    "    i=0.07\n",
    "    h=8760 #Hours in a year\n",
    "    N_rep=stack_lifetime/(f_p*h)\n",
    "    I=I+I*percent_remp*(1-i)**N_rep\n",
    "    n=30\n",
    "    FRC=(i*((1+i)**n))/(((1+i)**n)-1)  #Capital Recovery Factor\n",
    "    M=0.017 #Maintenance cost function as a percentage of investment, dependent on plant factor\n",
    "    Q_h2=20.3 #Hydrogen production capacity [kg/h]\n",
    "    Q_H2O=0.017  #Amount of water consumed [m3/kg of hydrogen]\n",
    "    P_H2O=1.4 #Water price [USD/m3]\n",
    "    Q_e=33.3/eff  #Amount of electricity consumed [kWh/kg of hydrogen] \n",
    "    P_e=LCOE\n",
    "    Q_O2=7.8 #Sale of oxygen taking into account the quantity produced [kgO2/kg of hydrogen] (optional term)\n",
    "    P_O2=0.03 #Selling price of oxygen [USD/kgO2] (optional term)\n",
    "    #LCOH_2 = P_inst*I*((FRC+M)/(h*f_p*Q_h2))+Q_H2O*P_H2O+Q_e*P_e-Q_O2*P_O2\n",
    "    LCOH = I*(FRC+M)*33.3/(h*f_p*eff)+Q_H2O*P_H2O+Q_e*P_e\n",
    "    Water=Q_H2O*P_H2O\n",
    "    Electricity=Q_e*P_e\n",
    "    Electrolysis=I*(FRC+M)*33.3/(h*f_p*eff)\n",
    "    \n",
    "    return(LCOH,Water,Electricity,Electrolysis)"
   ]
  },
  {
   "cell_type": "markdown",
   "metadata": {},
   "source": [
    "\n",
    "**LCOH - PV - ALK - 2021**"
   ]
  },
  {
   "cell_type": "code",
   "execution_count": 15,
   "metadata": {},
   "outputs": [
    {
     "data": {
      "text/plain": [
       "2.645363357286994"
      ]
     },
     "execution_count": 15,
     "metadata": {},
     "output_type": "execute_result"
    }
   ],
   "source": [
    "LCOH_pv_alk_2021=LCOH(500,LCOE_pv_2021/1000,CF_pv_alk,0.63,100000)[0]\n",
    "LCOH_pv_alk_2021"
   ]
  },
  {
   "cell_type": "markdown",
   "metadata": {},
   "source": [
    "\n",
    "**LCOH - PV - PEM - 2021**"
   ]
  },
  {
   "cell_type": "code",
   "execution_count": 16,
   "metadata": {},
   "outputs": [
    {
     "data": {
      "text/plain": [
       "4.339573153913777"
      ]
     },
     "execution_count": 16,
     "metadata": {},
     "output_type": "execute_result"
    }
   ],
   "source": [
    "LCOH_pv_PEM_2021=LCOH(1100,LCOE_pv_2021/1000,CF_pv_PEM,0.56)[0]\n",
    "LCOH_pv_PEM_2021"
   ]
  },
  {
   "cell_type": "markdown",
   "metadata": {},
   "source": [
    "**LCOH - PV - ALK - 2030**"
   ]
  },
  {
   "cell_type": "code",
   "execution_count": 17,
   "metadata": {},
   "outputs": [
    {
     "data": {
      "text/plain": [
       "1.5188739453168738"
      ]
     },
     "execution_count": 17,
     "metadata": {},
     "output_type": "execute_result"
    }
   ],
   "source": [
    "LCOH_pv_alk_2030=LCOH(400,LCOE_pv_2030/1000,CF_pv_alk,0.65,100000,0.15)[0]\n",
    "LCOH_pv_alk_2030"
   ]
  },
  {
   "cell_type": "markdown",
   "metadata": {},
   "source": [
    "**LCOH - PV - PEM - 2030**"
   ]
  },
  {
   "cell_type": "code",
   "execution_count": 18,
   "metadata": {},
   "outputs": [
    {
     "data": {
      "text/plain": [
       "2.065240520724514"
      ]
     },
     "execution_count": 18,
     "metadata": {},
     "output_type": "execute_result"
    }
   ],
   "source": [
    "LCOH_pv_PEM_2030=LCOH(650,LCOE_pv_2030/1000,CF_pv_PEM,0.63,percent_remp=0.2)[0]\n",
    "LCOH_pv_PEM_2030"
   ]
  },
  {
   "cell_type": "code",
   "execution_count": 19,
   "metadata": {},
   "outputs": [
    {
     "data": {
      "text/plain": [
       "Text(0, 0.5, 'USD/kg')"
      ]
     },
     "execution_count": 19,
     "metadata": {},
     "output_type": "execute_result"
    },
    {
     "data": {
      "image/png": "[encoded data removed]",
      "text/plain": [
       "<Figure size 432x288 with 1 Axes>"
      ]
     },
     "metadata": {
      "needs_background": "light"
     },
     "output_type": "display_data"
    }
   ],
   "source": [
    "labels = ['PV-ALK-2021',\"PV-PEM-2021\",\"PV-ALK-2030\",\"PV-PEM-2030\"]\n",
    "W = [LCOH(500,LCOE_pv_2021/1000,CF_pv_alk,0.63,100000)[1],LCOH(1100,LCOE_pv_2021/1000,CF_pv_PEM,0.56)[1],LCOH(400,LCOE_pv_2030/1000,CF_pv_alk,0.65,100000,0.15)[1],LCOH(650,LCOE_pv_2030/1000,CF_pv_PEM,0.63,percent_remp=0.2)[1]]\n",
    "Electri = [LCOH(500,LCOE_pv_2021/1000,CF_pv_alk,0.63,100000)[2],LCOH(1100,LCOE_pv_2021/1000,CF_pv_PEM,0.56)[2],LCOH(400,LCOE_pv_2030/1000,CF_pv_alk,0.65,100000,0.15)[2],LCOH(650,LCOE_pv_2030/1000,CF_pv_PEM,0.63,percent_remp=0.2)[2]]\n",
    "Electro = [LCOH(500,LCOE_pv_2021/1000,CF_pv_alk,0.63,100000)[3],LCOH(1100,LCOE_pv_2021/1000,CF_pv_PEM,0.56)[3],LCOH(400,LCOE_pv_2030/1000,CF_pv_alk,0.65,100000,0.15)[3],LCOH(650,LCOE_pv_2030/1000,CF_pv_PEM,0.63,percent_remp=0.2)[3]]\n",
    "width = 0.5       # the width of the bars: can also be len(x) sequence\n",
    "\n",
    "fig, ax = plt.subplots()\n",
    "\n",
    "bars = np.add(Electri, Electro).tolist()\n",
    "\n",
    "ax.bar(labels, Electri, width, label='Electricity')\n",
    "ax.bar(labels, Electro, width, bottom=Electri,label='Electrolysis')\n",
    "ax.bar(labels, W, width, bottom=bars,label='Water')\n",
    "ax.legend()\n",
    "\n",
    "ax.set_ylabel(\"USD/kg\")\n",
    "#ax.set_title('Levelised Cost of Hydrogen - PV')\n",
    "\n",
    "#ax.bar(labels, women_means, width, bottom=men_means,label='Women')\n",
    "\n",
    "#Agua=W*100/(W+Electri+Electro)\n"
   ]
  },
  {
   "cell_type": "code",
   "execution_count": 20,
   "metadata": {},
   "outputs": [
    {
     "data": {
      "text/plain": [
       "1.1524081462265057"
      ]
     },
     "execution_count": 20,
     "metadata": {},
     "output_type": "execute_result"
    }
   ],
   "source": [
    "i=3\n",
    "Agua=W[i]*100/(W[i]+Electri[i]+Electro[i])\n",
    "Agua"
   ]
  },
  {
   "cell_type": "code",
   "execution_count": 21,
   "metadata": {},
   "outputs": [
    {
     "data": {
      "text/plain": [
       "36.41224193970163"
      ]
     },
     "execution_count": 21,
     "metadata": {},
     "output_type": "execute_result"
    }
   ],
   "source": [
    "Electricidad=Electri[i]*100/(W[i]+Electri[i]+Electro[i])\n",
    "Electricidad"
   ]
  },
  {
   "cell_type": "code",
   "execution_count": 22,
   "metadata": {},
   "outputs": [
    {
     "data": {
      "text/plain": [
       "62.435349914071864"
      ]
     },
     "execution_count": 22,
     "metadata": {},
     "output_type": "execute_result"
    }
   ],
   "source": [
    "Electrolizador=Electro[i]*100/(W[i]+Electri[i]+Electro[i])\n",
    "Electrolizador"
   ]
  },
  {
   "cell_type": "code",
   "execution_count": 23,
   "metadata": {},
   "outputs": [
    {
     "data": {
      "image/png": "[encoded data removed]",
      "text/plain": [
       "<Figure size 720x288 with 1 Axes>"
      ]
     },
     "metadata": {},
     "output_type": "display_data"
    }
   ],
   "source": [
    "fig, ax = plt.subplots(figsize=(10, 4), tight_layout=True, facecolor='w')\n",
    "ax.plot(pd.date_range(start='1/1/2021', end='01/01/2022',periods=8760),gen_pv)\n",
    "ax.set_ylabel('kW')\n",
    "ax.set_xlabel('Days of the year')\n",
    "fig.autofmt_xdate()"
   ]
  },
  {
   "cell_type": "code",
   "execution_count": 24,
   "metadata": {},
   "outputs": [],
   "source": [
    "LHV=33.3 #(kWh/KgH2)\n",
    "eff_PEM=0.56\n",
    "eff_ALK=0.63\n",
    "df1=pd.DataFrame(np.array(system_model.Outputs.dc_monthly))\n",
    "df1[\"PEM\"]=(df1[0]/(LHV/eff_PEM + 6.4))*(LHV/eff_PEM)\n",
    "df1[\"Liq\"]=(df1[0]/(LHV/eff_PEM + 6.4))*6.4\n",
    "df1[\"Alk\"]=(df1[0]/(LHV/eff_ALK + 6.4))*(LHV/eff_ALK)\n",
    "df1[\"Liq1\"]=(df1[0]/(LHV/eff_ALK + 6.4))*6.4\n",
    "df1[\"PEM1\"]=(df1[0]/(LHV/eff_PEM + 1.05))*(LHV/eff_PEM)\n",
    "df1[\"Comp\"]=(df1[0]/(LHV/eff_PEM + 1.05))*1.05\n",
    "df1[\"Alk1\"]=(df1[0]/(LHV/eff_ALK + 1.05))*(LHV/eff_ALK)\n",
    "df1[\"Comp1\"]=(df1[0]/(LHV/eff_ALK + 1.05))*1.05\n",
    "\n",
    "Months=[\"Jan\",\"Feb\",\"Mar\",\"Apr\",\"May\",\"Jun\",\"Jul\",\"Aug\",\"Sept\",\"Oct\",\"Nov\",\"Dec\"]\n",
    "df1.index=Months\n",
    "df1.columns=[\"Energy\", \"PEM\",\"Liq\",\"Alk\",\"Liq1\",\"PEM1\",\"Comp\",\"Alk1\",\"Comp1\"]"
   ]
  },
  {
   "cell_type": "code",
   "execution_count": 25,
   "metadata": {},
   "outputs": [
    {
     "name": "stderr",
     "output_type": "stream",
     "text": [
      "<ipython-input-25-53dd97686e57>:20: UserWarning: FixedFormatter should only be used together with FixedLocator\n",
      "  ax[0, 0].set_xticklabels(Months)\n",
      "<ipython-input-25-53dd97686e57>:40: UserWarning: FixedFormatter should only be used together with FixedLocator\n",
      "  ax[0, 1].set_xticklabels(Months)\n",
      "<ipython-input-25-53dd97686e57>:60: UserWarning: FixedFormatter should only be used together with FixedLocator\n",
      "  ax[1, 0].set_xticklabels(Months)\n",
      "<ipython-input-25-53dd97686e57>:80: UserWarning: FixedFormatter should only be used together with FixedLocator\n",
      "  ax[1, 1].set_xticklabels(Months)\n"
     ]
    },
    {
     "data": {
      "image/png": "[encoded data removed]",
      "text/plain": [
       "<Figure size 1080x720 with 4 Axes>"
      ]
     },
     "metadata": {
      "needs_background": "light"
     },
     "output_type": "display_data"
    }
   ],
   "source": [
    "x=range(12)\n",
    "fig, ax = plt.subplots(2, 2,constrained_layout=False)\n",
    "fig.set_size_inches(15, 10)\n",
    "\n",
    "ax[0, 0].bar(x=range(12), \n",
    "       height=df1[\"PEM\"],\n",
    "       label='PEM',\n",
    "       width=0.8, bottom=0, align='center', \n",
    "       color=None, edgecolor=None, linewidth=None); \n",
    "ax[0, 0].bar(x=range(12), \n",
    "       height=df1[\"Liq\"],\n",
    "       bottom=df1[\"PEM\"],\n",
    "       label='Liq',\n",
    "       #width=0.8, bottom=0, align='center',\n",
    "        color=None, edgecolor=None, linewidth=None); \n",
    "ax[0, 0].set_ylabel('kWh')\n",
    "#ax[0, 0].set_xlabel('Months')\n",
    "#ax[0, 0].set_title('Monthly system power generated')\n",
    "ax[0, 0].legend(loc=1, ncol=3, bbox_to_anchor=(0.65, 1))\n",
    "ax[0, 0].set_xticklabels(Months)\n",
    "ax[0, 0].set_xticks(range(12))\n",
    "ax[0, 0].grid(alpha=0.5,axis='y')\n",
    "\n",
    "\n",
    "ax[0, 1].bar(x=range(12), \n",
    "       height=df1[\"Alk\"],\n",
    "       label='Alk',\n",
    "       width=0.8, bottom=0, align='center',\n",
    "       color=None, edgecolor=None, linewidth=None); \n",
    "ax[0, 1].bar(x=range(12), \n",
    "       height=df1[\"Liq1\"],\n",
    "       bottom=df1[\"Alk\"],\n",
    "       label='Liq',\n",
    "       #width=0.8, bottom=0, align='center', \n",
    "       color=None, edgecolor=None, linewidth=None); \n",
    "ax[0, 1].set_ylabel('kWh')\n",
    "#ax[0, 1].set_xlabel('Months')\n",
    "#ax[0, 1].set_title('Monthly system power generated')\n",
    "ax[0, 1].legend(loc=1, ncol=3, bbox_to_anchor=(0.65, 1))\n",
    "ax[0, 1].set_xticklabels(Months)\n",
    "ax[0, 1].set_xticks(x)\n",
    "ax[0, 1].grid(alpha=0.5,axis='y')\n",
    "\n",
    "\n",
    "ax[1, 0].bar(x=range(12), \n",
    "       height=df1[\"PEM1\"],\n",
    "       label='PEM',\n",
    "       width=0.8, bottom=0, align='center', \n",
    "       color=None, edgecolor=None, linewidth=None); \n",
    "ax[1, 0].bar(x=range(12), \n",
    "       height=df1[\"Comp\"],\n",
    "       bottom=df1[\"PEM1\"],\n",
    "       label='Comp',\n",
    "       #width=0.8, bottom=0, align='center', \n",
    "       color=None, edgecolor=None, linewidth=None); \n",
    "ax[1, 0].set_ylabel('kWh')\n",
    "#ax[1, 0].set_xlabel('Months')\n",
    "#ax[1, 0].set_title('Monthly system power generated')\n",
    "ax[1, 0].legend(loc=1, ncol=3, bbox_to_anchor=(0.65, 1))\n",
    "ax[1, 0].set_xticklabels(Months)\n",
    "ax[1, 0].set_xticks(x)\n",
    "ax[1, 0].grid(alpha=0.5,axis='y')\n",
    "\n",
    "\n",
    "ax[1, 1].bar(x=range(12), \n",
    "       height=df1[\"Alk1\"],\n",
    "       label='Alk',\n",
    "       width=0.8, bottom=0, align='center', \n",
    "       color=None, edgecolor=None, linewidth=None); \n",
    "ax[1, 1].bar(x=range(12), \n",
    "       height=df1[\"Comp1\"],\n",
    "       bottom=df1[\"Alk1\"],\n",
    "       label='Comp',\n",
    "       #width=0.8, bottom=0, align='center', \n",
    "       color=None, edgecolor=None, linewidth=None); \n",
    "ax[1, 1].set_ylabel('kWh')\n",
    "#ax[1, 1].set_xlabel('Months')\n",
    "#ax[1, 1].set_title('Monthly system power generated')\n",
    "ax[1, 1].legend(loc=1, ncol=3, bbox_to_anchor=(0.65, 1))\n",
    "ax[1, 1].set_xticklabels(Months)\n",
    "ax[1, 1].set_xticks(x)\n",
    "ax[1, 1].grid(alpha=0.5,axis='y')\n"
   ]
  },
  {
   "cell_type": "code",
   "execution_count": 26,
   "metadata": {},
   "outputs": [],
   "source": [
    "#2021\n",
    "LHV=33.3 #(kWh/KgH2)\n",
    "eff_PEM=0.56\n",
    "eff_ALK=0.63\n",
    "H2_PEM_Liq=(np.array(system_model.Outputs.dc_monthly)/(LHV/eff_PEM+6.4))*(1/1000)\n",
    "H2_PEM_Comp=(np.array(system_model.Outputs.dc_monthly)/(LHV/eff_PEM+1.05))*(1/1000)\n",
    "H2_Alk_Liq=(np.array(system_model.Outputs.dc_monthly)/(LHV/eff_ALK+6.4))*(1/1000)\n",
    "H2_Alk_Comp=(np.array(system_model.Outputs.dc_monthly)/(LHV/eff_ALK+1.05))*(1/1000)"
   ]
  },
  {
   "cell_type": "code",
   "execution_count": 27,
   "metadata": {
    "scrolled": false
   },
   "outputs": [
    {
     "name": "stderr",
     "output_type": "stream",
     "text": [
      "<ipython-input-27-4a06a772082f>:28: UserWarning: FixedFormatter should only be used together with FixedLocator\n",
      "  ax.set_xticklabels(Months)\n"
     ]
    },
    {
     "data": {
      "image/png": "[encoded data removed]",
      "text/plain": [
       "<Figure size 576x288 with 1 Axes>"
      ]
     },
     "metadata": {},
     "output_type": "display_data"
    }
   ],
   "source": [
    "fig, ax = plt.subplots(figsize=(8, 4), tight_layout=True, facecolor='w')\n",
    "y=np.arange(12)\n",
    "width1 = 0.2\n",
    "ax.bar(y - 1.5*width1, \n",
    "       height=H2_PEM_Liq,\n",
    "       label=\"PEM - Liq\",\n",
    "       width=0.2, color=\"#4059AD\"); \n",
    "\n",
    "ax.bar(y +1.5*width1, \n",
    "       height=H2_PEM_Comp,\n",
    "       label='PEM - Comp',\n",
    "       width=0.2,color=\"#6B9AC4\"); \n",
    "\n",
    "ax.bar(y-0.5*width1, \n",
    "       height=H2_Alk_Liq,\n",
    "       label='Alk - Liq',\n",
    "       width=0.2,color=\"#97D8C4\"); \n",
    "\n",
    "ax.bar(y + 0.5*width1,\n",
    "       height=H2_Alk_Comp,\n",
    "       label='Alk - Comp',\n",
    "       width=0.2, color=\"#F4B942\"); \n",
    "       \n",
    "ax.set_ylabel('Tons of hydrogen')\n",
    "ax.set_xlabel('Months')\n",
    "#ax.set_title('Monthly Hydrogen Production 2021')\n",
    "ax.legend(loc=1, ncol=4, bbox_to_anchor=(1, 0.1))\n",
    "ax.set_xticklabels(Months)\n",
    "ax.set_xticks(y)\n",
    "ax.grid(alpha=0.5,axis='y')"
   ]
  },
  {
   "cell_type": "code",
   "execution_count": 28,
   "metadata": {},
   "outputs": [],
   "source": [
    "#2030\n",
    "LHV=33.3 #(kWh/KgH2)\n",
    "eff_PEM=0.63\n",
    "eff_ALK=0.65\n",
    "H2_PEM_Liq=(np.array(system_model.Outputs.dc_monthly)/(LHV/eff_PEM+6.4))*(1/1000)\n",
    "H2_PEM_Comp=(np.array(system_model.Outputs.dc_monthly)/(LHV/eff_PEM+1.05))*(1/1000)\n",
    "H2_Alk_Liq=(np.array(system_model.Outputs.dc_monthly)/(LHV/eff_ALK+6.4))*(1/1000)\n",
    "H2_Alk_Comp=(np.array(system_model.Outputs.dc_monthly)/(LHV/eff_ALK+1.05))*(1/1000)"
   ]
  },
  {
   "cell_type": "code",
   "execution_count": 29,
   "metadata": {
    "scrolled": false
   },
   "outputs": [
    {
     "name": "stderr",
     "output_type": "stream",
     "text": [
      "<ipython-input-29-482f7f086ee5>:28: UserWarning: FixedFormatter should only be used together with FixedLocator\n",
      "  ax.set_xticklabels(Months)\n"
     ]
    },
    {
     "data": {
      "image/png": "[encoded data removed]",
      "text/plain": [
       "<Figure size 576x288 with 1 Axes>"
      ]
     },
     "metadata": {},
     "output_type": "display_data"
    }
   ],
   "source": [
    "fig, ax = plt.subplots(figsize=(8, 4), tight_layout=True, facecolor='w')\n",
    "y=np.arange(12)\n",
    "width1 = 0.2\n",
    "ax.bar(y - 1.5*width1,\n",
    "       height=H2_PEM_Liq,\n",
    "       label=\"PEM - Liq\",\n",
    "       width=0.2,color=\"#4059AD\"); \n",
    "\n",
    "ax.bar(y +1.5*width1,\n",
    "       height=H2_PEM_Comp,\n",
    "       label='PEM - Comp',\n",
    "       width=0.2,color=\"#6B9AC4\"); \n",
    "\n",
    "ax.bar(y-0.5*width1, \n",
    "       height=H2_Alk_Liq,\n",
    "       label='Alk - Liq',\n",
    "       width=0.2,color=\"#97D8C4\"); \n",
    "\n",
    "ax.bar(y + 0.5*width1,\n",
    "       height=H2_Alk_Comp,\n",
    "       label='Alk - Comp',\n",
    "       width=0.2,color=\"#F4B942\"); \n",
    "       \n",
    "ax.set_ylabel('Tons of hydrogen')\n",
    "ax.set_xlabel('Months')\n",
    "#ax.set_title('Monthly Hydrogen Production 2030')\n",
    "ax.legend(loc=1, ncol=4, bbox_to_anchor=(1, 0.1))\n",
    "ax.set_xticklabels(Months)\n",
    "ax.set_xticks(y)\n",
    "ax.grid(alpha=0.5,axis='y')"
   ]
  },
  {
   "cell_type": "code",
   "execution_count": 30,
   "metadata": {},
   "outputs": [],
   "source": [
    "day_prod=(sum(gen_pv)/365)*0.63/33.3"
   ]
  },
  {
   "cell_type": "code",
   "execution_count": 31,
   "metadata": {},
   "outputs": [
    {
     "data": {
      "text/plain": [
       "13705.453807607955"
      ]
     },
     "execution_count": 31,
     "metadata": {},
     "output_type": "execute_result"
    }
   ],
   "source": [
    "day_prod"
   ]
  },
  {
   "cell_type": "code",
   "execution_count": 32,
   "metadata": {},
   "outputs": [],
   "source": [
    "flow_max=gen_pv.max()*0.63/33.3"
   ]
  },
  {
   "cell_type": "code",
   "execution_count": 33,
   "metadata": {},
   "outputs": [
    {
     "data": {
      "text/plain": [
       "1713.1684951308973"
      ]
     },
     "execution_count": 33,
     "metadata": {},
     "output_type": "execute_result"
    }
   ],
   "source": [
    "flow_max"
   ]
  },
  {
   "cell_type": "code",
   "execution_count": 34,
   "metadata": {},
   "outputs": [],
   "source": [
    "#Compressed hydrogen gas storage system\n",
    "\n",
    "i=0.07\n",
    "n_conversion=15\n",
    "n_storage=20\n",
    "\n",
    "FRC_conversion=(i*((1+i)**n_conversion))/(((1+i)**n_conversion)-1)\n",
    "FRC_storage=(i*((1+i)**n_storage))/(((1+i)**n_storage)-1)\n",
    "\n",
    "M_storage=2/100\n",
    "M_conversion=4/100\n",
    "\n",
    "storage_module=500*day_prod*((FRC_storage+M_storage)/(sum(gen_pv_limit)*0.63/33.3))  #USD\n",
    "conversion_module=3900*flow_max*1.05*((FRC_conversion+M_conversion)/(sum(gen_pv_limit)*0.63/33.3))\n",
    "\n",
    "GH2=storage_module+conversion_module"
   ]
  },
  {
   "cell_type": "code",
   "execution_count": 35,
   "metadata": {},
   "outputs": [
    {
     "data": {
      "text/plain": [
       "0.3680683077179385"
      ]
     },
     "execution_count": 35,
     "metadata": {},
     "output_type": "execute_result"
    }
   ],
   "source": [
    "GH2  #USD/kg"
   ]
  },
  {
   "cell_type": "code",
   "execution_count": 36,
   "metadata": {},
   "outputs": [],
   "source": [
    "#Liquid hydrogen\n",
    "\n",
    "i=0.07\n",
    "n_conversion=20\n",
    "n_storage=20\n",
    "\n",
    "FRC_conversion=(i*((1+i)**n_conversion))/(((1+i)**n_conversion)-1)\n",
    "FRC_storage=(i*((1+i)**n_storage))/(((1+i)**n_storage)-1)\n",
    "\n",
    "M_storage=2/100\n",
    "M_conversion=8/100\n",
    "\n",
    "\n",
    "storage_module=90*day_prod*((FRC_storage+M_storage)/(sum(gen_pv_limit)*0.63/33.3))  #USD\n",
    "conversion_module=50000*flow_max*((FRC_conversion+M_conversion)/(sum(gen_pv_limit)*0.63/33.3))\n",
    "LH2=storage_module+conversion_module"
   ]
  },
  {
   "cell_type": "code",
   "execution_count": 37,
   "metadata": {},
   "outputs": [
    {
     "data": {
      "text/plain": [
       "3.025012681864771"
      ]
     },
     "execution_count": 37,
     "metadata": {},
     "output_type": "execute_result"
    }
   ],
   "source": [
    "LH2"
   ]
  },
  {
   "cell_type": "code",
   "execution_count": 38,
   "metadata": {},
   "outputs": [
    {
     "data": {
      "text/plain": [
       "3.6550790628069936"
      ]
     },
     "execution_count": 38,
     "metadata": {},
     "output_type": "execute_result"
    }
   ],
   "source": [
    "LCOH_pv_PPA_2021=LCOH(500,54.7/1000,0.42,0.63,100000)[0]\n",
    "LCOH_pv_PPA_2021"
   ]
  },
  {
   "cell_type": "code",
   "execution_count": 39,
   "metadata": {},
   "outputs": [
    {
     "data": {
      "text/plain": [
       "2.561306869385997"
      ]
     },
     "execution_count": 39,
     "metadata": {},
     "output_type": "execute_result"
    }
   ],
   "source": [
    "LCOH_pv_PPA_2030=LCOH(400,38.7/1000,0.42,0.65,100000,0.15)[0]\n",
    "LCOH_pv_PPA_2030"
   ]
  }
 ],
 "metadata": {
  "kernelspec": {
   "display_name": "Python 3",
   "language": "python",
   "name": "python3"
  },
  "language_info": {
   "codemirror_mode": {
    "name": "ipython",
    "version": 3
   },
   "file_extension": ".py",
   "mimetype": "text/x-python",
   "name": "python",
   "nbconvert_exporter": "python",
   "pygments_lexer": "ipython3",
   "version": "3.8.5"
  }
 },
 "nbformat": 4,
 "nbformat_minor": 4
}
