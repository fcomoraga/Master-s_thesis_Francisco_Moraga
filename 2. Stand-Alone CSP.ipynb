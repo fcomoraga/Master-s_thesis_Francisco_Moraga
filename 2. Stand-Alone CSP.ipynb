{
 "cells": [
  {
   "cell_type": "markdown",
   "metadata": {},
   "source": [
    "# **2. Power Tower Molten Salt 100MW - Single Owner Example**"
   ]
  },
  {
   "cell_type": "code",
   "execution_count": 1,
   "metadata": {},
   "outputs": [],
   "source": [
    "import pandas as pd\n",
    "import numpy as np\n",
    "import matplotlib.pyplot as plt\n",
    "import math\n",
    "%matplotlib inline"
   ]
  },
  {
   "cell_type": "markdown",
   "metadata": {},
   "source": [
    "\n",
    "**2.1   Model Initialization**"
   ]
  },
  {
   "cell_type": "code",
   "execution_count": 2,
   "metadata": {},
   "outputs": [],
   "source": [
    "import PySAM.Solarpilot as sp\n",
    "import PySAM.TcsmoltenSalt as tcs\n",
    "system_model_csp = tcs.default('MSPTSingleOwner')"
   ]
  },
  {
   "cell_type": "markdown",
   "metadata": {},
   "source": [
    "**2.2   SystemDesign Group**"
   ]
  },
  {
   "cell_type": "code",
   "execution_count": 3,
   "metadata": {},
   "outputs": [],
   "source": [
    "P_ref=111 #[MW]\n",
    "Cycle_th_eff=0.412\n",
    "S_M=3\n",
    "Cycle_th_P=P_ref/Cycle_th_eff\n",
    "tshours=15\n",
    "system_model_csp.SystemDesign.P_ref=P_ref\n",
    "system_model_csp.SystemDesign.solarm=S_M"
   ]
  },
  {
   "cell_type": "code",
   "execution_count": 4,
   "metadata": {},
   "outputs": [],
   "source": [
    "model_opt1=sp.from_existing(system_model_csp)\n",
    "model_opt1.SolarPILOT.helio_optical_error=0.00153\n",
    "model_opt1.SolarPILOT.q_design=round(S_M*Cycle_th_P)\n",
    "model_opt1.SolarPILOT.rec_aspect=21.6029/17.65\n",
    "model_opt1.SolarPILOT.solar_resource_file=\"Antofagasta.csv\"\n",
    "model_opt1.execute()"
   ]
  },
  {
   "cell_type": "code",
   "execution_count": 5,
   "metadata": {},
   "outputs": [],
   "source": [
    "system_model_csp.SystemDesign.tshours=tshours\n",
    "system_model_csp.HeliostatField.helio_positions=model_opt1.Outputs.heliostat_positions\n",
    "system_model_csp.TowerAndReceiver.h_tower=model_opt1.Outputs.h_tower_opt\n",
    "system_model_csp.TowerAndReceiver.rec_height=model_opt1.Outputs.rec_height_opt\n",
    "system_model_csp.HeliostatField.N_hel=model_opt1.Outputs.number_heliostats\n",
    "system_model_csp.TowerAndReceiver.D_rec=model_opt1.Outputs.rec_height_opt/model_opt1.Outputs.rec_aspect_opt\n",
    "#system_model_csp.HeliostatField.A_sf_in=model_opt1.Outputs.area_sf\n",
    "system_model_csp.HeliostatField.A_sf_in=model_opt1.SolarPILOT.helio_width*model_opt1.SolarPILOT.dens_mirror*model_opt1.SolarPILOT.helio_height*model_opt1.Outputs.number_heliostats"
   ]
  },
  {
   "cell_type": "code",
   "execution_count": 6,
   "metadata": {},
   "outputs": [],
   "source": [
    "system_model_csp.SystemControl.f_turb_tou_periods=(1.0, 1.0, 1.0, 1.0, 1.0, 1.0, 1.0, 1.0, 1.0)\n",
    "system_model_csp.SystemControl.weekday_schedule=12*[list(np.ones(24))]\n",
    "system_model_csp.SystemControl.weekend_schedule=12*[list(np.ones(24))]"
   ]
  },
  {
   "cell_type": "markdown",
   "metadata": {},
   "source": [
    "**2.3   SolarResource Group**"
   ]
  },
  {
   "cell_type": "code",
   "execution_count": 7,
   "metadata": {},
   "outputs": [],
   "source": [
    "system_model_csp.SolarResource.solar_resource_file=\"Antofagasta.csv\""
   ]
  },
  {
   "cell_type": "markdown",
   "metadata": {},
   "source": [
    "**2.4 Outputs Group**"
   ]
  },
  {
   "cell_type": "code",
   "execution_count": 8,
   "metadata": {},
   "outputs": [],
   "source": [
    "system_model_csp.execute()"
   ]
  },
  {
   "cell_type": "markdown",
   "metadata": {},
   "source": [
    "**CF - CSP**"
   ]
  },
  {
   "cell_type": "code",
   "execution_count": 9,
   "metadata": {},
   "outputs": [
    {
     "name": "stdout",
     "output_type": "stream",
     "text": [
      "The history saving thread hit an unexpected error (OperationalError('database is locked')).History will not be written to the database.95.95886589497039\n",
      "\n"
     ]
    }
   ],
   "source": [
    "print(system_model_csp.Outputs.capacity_factor)"
   ]
  },
  {
   "cell_type": "code",
   "execution_count": 10,
   "metadata": {},
   "outputs": [],
   "source": [
    "prod=list(np.array(system_model_csp.Outputs.gen)*0.96)"
   ]
  },
  {
   "cell_type": "code",
   "execution_count": 11,
   "metadata": {},
   "outputs": [],
   "source": [
    "for i in range(0,8760):\n",
    "    if (prod[i]>100000):\n",
    "        prod[i]=100000"
   ]
  },
  {
   "cell_type": "markdown",
   "metadata": {},
   "source": [
    "**CF - ELECT - CSP**"
   ]
  },
  {
   "cell_type": "code",
   "execution_count": 12,
   "metadata": {},
   "outputs": [
    {
     "data": {
      "text/plain": [
       "0.898157556908625"
      ]
     },
     "execution_count": 12,
     "metadata": {},
     "output_type": "execute_result"
    }
   ],
   "source": [
    "CF_elect_csp=sum(prod)/(8760*0.9*111000)\n",
    "CF_elect_csp"
   ]
  },
  {
   "cell_type": "code",
   "execution_count": 13,
   "metadata": {},
   "outputs": [],
   "source": [
    "gen_csp_limit=prod\n",
    "\n",
    "for i in range(0,8760):\n",
    "    if (gen_csp_limit[i]<100000*0.1):\n",
    "        gen_csp_limit[i]=0\n",
    "            \n",
    "CF_elect_csp_alk=sum(gen_csp_limit)/(8760*0.9*111000)"
   ]
  },
  {
   "cell_type": "markdown",
   "metadata": {},
   "source": [
    "# <center>$LCOE=\\frac{\\sum_{i=0}^{N}\\frac{CAPEX_i}{\\left(1+t\\right)^i}+\\sum_{i=1}^{N}\\frac{OPEX_i}{\\left(1+t\\right)^i}}{\\sum_{i=1}^{N}\\frac{Production_i}{\\left(1+t\\right)^i}}$ <center>"
   ]
  },
  {
   "cell_type": "code",
   "execution_count": 14,
   "metadata": {},
   "outputs": [],
   "source": [
    "def LCOE_csp(d1,Site_prep,Solar_field,Fixed_tower_cost,Receiver_reference_cost,TES,Power_block,Contigencies,OM_fix,OM_var):\n",
    "    Sum1=0\n",
    "    Sum2=0\n",
    "    t1=7/100\n",
    "    for i in range(1,41):\n",
    "        Sum1 = Sum1 + (((1-d1)**i)/((1+t1)**i))\n",
    "        Sum2 = Sum2 + (1/((1+t1)**i))\n",
    "    Production_csp=system_model_csp.Outputs.annual_energy\n",
    "    Site_prep=Site_prep*system_model_csp.HeliostatField.A_sf_in\n",
    "    Solar_field=Solar_field*system_model_csp.HeliostatField.A_sf_in\n",
    "    Fixed_tower_cost=Fixed_tower_cost\n",
    "    Tower_scaling_exp=0.0113\n",
    "    Total_tower_cost=Fixed_tower_cost*math.exp(Tower_scaling_exp*(system_model_csp.TowerAndReceiver.h_tower-system_model_csp.TowerAndReceiver.rec_height/2+model_opt1.SolarPILOT.helio_height/2))\n",
    "    Receiver_reference_cost=Receiver_reference_cost\n",
    "    Receiver_area=math.pi*system_model_csp.TowerAndReceiver.D_rec*system_model_csp.TowerAndReceiver.rec_height\n",
    "    Receiver_reference_area=1571\n",
    "    Receiver_scaling_exponent=0.7\n",
    "    Solar_receiver=Receiver_reference_cost*(Receiver_area/Receiver_reference_area)**Receiver_scaling_exponent\n",
    "    #TES Thermal Capacity = Hours of Storage at Power Cycle Full Load × Cycle Thermal Input Power at Design\n",
    "    #Cycle Thermal Power (MWt) = Design Turbine Gross Output (MWe) ÷ Cycle Thermal Efficiency\n",
    "    Storage_capacity=(tshours*1000*P_ref)/Cycle_th_eff\n",
    "    TES=TES*Storage_capacity\n",
    "    #Balance_of_plant=290.00\n",
    "    #Power_cycle_cost=1040.00\n",
    "    #Power_block=(Balance_of_plant+Power_cycle_cost)*1000*P_ref\n",
    "    Power_block=Power_block*1000*P_ref\n",
    "    #Contigencies=5%\n",
    "\n",
    "    CAPEX1=(Site_prep+Solar_field+Total_tower_cost+Solar_receiver+TES+Power_block)*Contigencies\n",
    "\n",
    "    OPEX1=OM_fix*P_ref*1000+OM_var*Production_csp*(1/1000)\n",
    "\n",
    "    LCOE_csp_standalone=((CAPEX1+OPEX1*Sum2)/(Production_csp*Sum1))*1000\n",
    "    return(LCOE_csp_standalone)"
   ]
  },
  {
   "cell_type": "markdown",
   "metadata": {},
   "source": [
    "**LCOE 2021**"
   ]
  },
  {
   "cell_type": "code",
   "execution_count": 15,
   "metadata": {},
   "outputs": [
    {
     "data": {
      "text/plain": [
       "69.96374851416745"
      ]
     },
     "execution_count": 15,
     "metadata": {},
     "output_type": "execute_result"
    }
   ],
   "source": [
    "LCOE_csp_standalone_2021=LCOE_csp(0.2/100,16.00,140,3000000.00,103000000.00,22,1330,105/100,66,3.5)\n",
    "LCOE_csp_standalone_2021"
   ]
  },
  {
   "cell_type": "markdown",
   "metadata": {},
   "source": [
    "**LCOE 2030**"
   ]
  },
  {
   "cell_type": "code",
   "execution_count": 16,
   "metadata": {},
   "outputs": [
    {
     "data": {
      "text/plain": [
       "35.437022443650434"
      ]
     },
     "execution_count": 16,
     "metadata": {},
     "output_type": "execute_result"
    }
   ],
   "source": [
    "LCOE_csp_standalone_2030=LCOE_csp(0.1/100,10,50,2189781,75182481.75,10,700,102/100,44,2.3)\n",
    "LCOE_csp_standalone_2030"
   ]
  },
  {
   "cell_type": "markdown",
   "metadata": {},
   "source": [
    "# ${LCOH}_2=P_{inst}\\bullet I\\bullet\\frac{FRC+M\\left(f_p\\right)}{h{\\bullet f}_p\\bullet Q_{H_2}}+Q_{H_2O}{\\bullet P}_{H_2O}+Q_e\\bullet P_e-Q_{O_2}\\bullet P_{O_2}$\n"
   ]
  },
  {
   "cell_type": "code",
   "execution_count": 17,
   "metadata": {},
   "outputs": [],
   "source": [
    "def LCOH(I,LCOE,f_p,eff,stack_lifetime=90000,percent_remp=0.4):\n",
    "    P_inst=100 #Installed power of the electrolyser [MW]\n",
    "    i=0.07\n",
    "    h=8760 #Hours in a year\n",
    "    N_rep=stack_lifetime/(f_p*h)\n",
    "    I=I+I*percent_remp*(1-i)**N_rep\n",
    "    n=30\n",
    "    FRC=(i*((1+i)**n))/(((1+i)**n)-1)  #Capital Recovery Factor\n",
    "    M=0.05 #Maintenance cost function as a percentage of investment, dependent on plant factor\n",
    "    Q_h2=20.3 #Hydrogen production capacity [kg/h]\n",
    "    Q_H2O=0.017  #Amount of water consumed [m3/kg of hydrogen]\n",
    "    P_H2O=1.4 #Water price [USD/m3]\n",
    "    Q_e=33.3/eff  #Amount of electricity consumed [kWh/kg of hydrogen]\n",
    "    P_e=LCOE\n",
    "    Q_O2=7.8 #Sale of oxygen taking into account the quantity produced [kgO2/kg of hydrogen] (optional term)\n",
    "    P_O2=0.03 #Selling price of oxygen [USD/kgO2] (optional term)\n",
    "    LCOH = I*(FRC+M)*33.3/(h*f_p*eff)+Q_H2O*P_H2O+Q_e*P_e\n",
    "    \n",
    "    Water=Q_H2O*P_H2O\n",
    "    Electricity=Q_e*P_e\n",
    "    Electrolysis=I*(FRC+M)*33.3/(h*f_p*eff)\n",
    "    return(LCOH,Water,Electricity,Electrolysis)"
   ]
  },
  {
   "cell_type": "markdown",
   "metadata": {},
   "source": [
    "**LCOH - CSP - ALK - 2021**"
   ]
  },
  {
   "cell_type": "code",
   "execution_count": 18,
   "metadata": {},
   "outputs": [
    {
     "data": {
      "text/plain": [
       "3.8095945495911514"
      ]
     },
     "execution_count": 18,
     "metadata": {},
     "output_type": "execute_result"
    }
   ],
   "source": [
    "LCOH_csp_alk_2021=LCOH(500,LCOE_csp_standalone_2021/1000,CF_elect_csp_alk,0.7,100000)[0]\n",
    "LCOH_csp_alk_2021"
   ]
  },
  {
   "cell_type": "markdown",
   "metadata": {},
   "source": [
    "\n",
    "**LCOH - CSP - PEM - 2021**"
   ]
  },
  {
   "cell_type": "code",
   "execution_count": 19,
   "metadata": {},
   "outputs": [
    {
     "data": {
      "text/plain": [
       "5.0967739432757915"
      ]
     },
     "execution_count": 19,
     "metadata": {},
     "output_type": "execute_result"
    }
   ],
   "source": [
    "LCOH_csp_PEM_2021=LCOH(1100,LCOE_csp_standalone_2021/1000,CF_elect_csp,0.6)[0]\n",
    "LCOH_csp_PEM_2021"
   ]
  },
  {
   "cell_type": "markdown",
   "metadata": {},
   "source": [
    "**LCOH - CSP - ALK - 2030**"
   ]
  },
  {
   "cell_type": "code",
   "execution_count": 20,
   "metadata": {},
   "outputs": [
    {
     "data": {
      "text/plain": [
       "2.015757597608633"
      ]
     },
     "execution_count": 20,
     "metadata": {},
     "output_type": "execute_result"
    }
   ],
   "source": [
    "LCOH_csp_alk_2030=LCOH(400,LCOE_csp_standalone_2030/1000,CF_elect_csp_alk,0.71,100000,0.15)[0]\n",
    "LCOH_csp_alk_2030"
   ]
  },
  {
   "cell_type": "markdown",
   "metadata": {},
   "source": [
    "**LCOH - CSP - PEM - 2030**"
   ]
  },
  {
   "cell_type": "code",
   "execution_count": 21,
   "metadata": {},
   "outputs": [
    {
     "data": {
      "text/plain": [
       "2.3220341739385275"
      ]
     },
     "execution_count": 21,
     "metadata": {},
     "output_type": "execute_result"
    }
   ],
   "source": [
    "LCOH_csp_PEM_2030=LCOH(650,LCOE_csp_standalone_2030/1000,CF_elect_csp,0.68,percent_remp=0.15)[0]\n",
    "LCOH_csp_PEM_2030"
   ]
  },
  {
   "cell_type": "code",
   "execution_count": 22,
   "metadata": {},
   "outputs": [
    {
     "data": {
      "text/plain": [
       "4.9635986063872615"
      ]
     },
     "execution_count": 22,
     "metadata": {},
     "output_type": "execute_result"
    }
   ],
   "source": [
    "LCOH_CSP_PPA_2021=LCOH(500,84.7/1000,1,0.63,100000)[0]\n",
    "LCOH_CSP_PPA_2021"
   ]
  },
  {
   "cell_type": "code",
   "execution_count": 23,
   "metadata": {},
   "outputs": [
    {
     "data": {
      "text/plain": [
       "3.356539602021252"
      ]
     },
     "execution_count": 23,
     "metadata": {},
     "output_type": "execute_result"
    }
   ],
   "source": [
    "LCOH_pv_PPA_2030=LCOH(400,58.7/1000,1,0.65,100000,0.15)[0]\n",
    "LCOH_pv_PPA_2030"
   ]
  },
  {
   "cell_type": "code",
   "execution_count": 24,
   "metadata": {},
   "outputs": [
    {
     "data": {
      "text/plain": [
       "Text(0, 0.5, 'USD/kg')"
      ]
     },
     "execution_count": 24,
     "metadata": {},
     "output_type": "execute_result"
    },
    {
     "data": {
      "image/png": "[encoded data removed]",
      "text/plain": [
       "<Figure size 432x288 with 1 Axes>"
      ]
     },
     "metadata": {
      "needs_background": "light"
     },
     "output_type": "display_data"
    }
   ],
   "source": [
    "labels = ['CSP-ALK-2021',\"CSP-PEM-2021\",\"CSP-ALK-2030\",\"CSP-PEM-2030\"]\n",
    "W = [LCOH(500,LCOE_csp_standalone_2021/1000,CF_elect_csp,0.63,100000)[1],LCOH(1100,LCOE_csp_standalone_2021/1000,CF_elect_csp,0.56)[1],LCOH(400,LCOE_csp_standalone_2030/1000,CF_elect_csp,0.65,100000,0.15)[1],LCOH(650,LCOE_csp_standalone_2030/1000,CF_elect_csp,0.63,percent_remp=0.15)[1]]\n",
    "Electri = [LCOH(500,LCOE_csp_standalone_2021/1000,CF_elect_csp,0.63,100000)[2],LCOH(1100,LCOE_csp_standalone_2021/1000,CF_elect_csp,0.56)[2],LCOH(400,LCOE_csp_standalone_2030/1000,CF_elect_csp,0.65,100000,0.15)[2],LCOH(650,LCOE_csp_standalone_2030/1000,CF_elect_csp,0.63,percent_remp=0.15)[2]]\n",
    "Electro = [LCOH(500,LCOE_csp_standalone_2021/1000,CF_elect_csp,0.63,100000)[3],LCOH(1100,LCOE_csp_standalone_2021/1000,CF_elect_csp,0.56)[3],LCOH(400,LCOE_csp_standalone_2030/1000,CF_elect_csp,0.65,100000,0.15)[3],LCOH(650,LCOE_csp_standalone_2030/1000,CF_elect_csp,0.63,percent_remp=0.15)[3]]\n",
    "width = 0.5       # the width of the bars: can also be len(x) sequence\n",
    "\n",
    "fig, ax = plt.subplots()\n",
    "\n",
    "bars = np.add(Electri, Electro).tolist()\n",
    "\n",
    "ax.bar(labels, Electri, width, label='Electricity')\n",
    "ax.bar(labels, Electro, width, bottom=Electri,label='Electrolysis')\n",
    "ax.bar(labels, W, width, bottom=bars,label='Water')\n",
    "ax.legend()\n",
    "\n",
    "ax.set_ylabel(\"USD/kg\")\n",
    "#ax.set_title('Levelised Cost of Hydrogen - CSP')\n",
    "\n",
    "#ax.bar(labels, women_means, width, bottom=men_means,label='Women')"
   ]
  },
  {
   "cell_type": "code",
   "execution_count": 25,
   "metadata": {},
   "outputs": [
    {
     "data": {
      "text/plain": [
       "0.9503146316156438"
      ]
     },
     "execution_count": 25,
     "metadata": {},
     "output_type": "execute_result"
    }
   ],
   "source": [
    "i=3\n",
    "Agua=W[i]*100/(W[i]+Electri[i]+Electro[i])\n",
    "Agua"
   ]
  },
  {
   "cell_type": "code",
   "execution_count": 26,
   "metadata": {},
   "outputs": [
    {
     "data": {
      "text/plain": [
       "74.79134900218725"
      ]
     },
     "execution_count": 26,
     "metadata": {},
     "output_type": "execute_result"
    }
   ],
   "source": [
    "Electricidad=Electri[i]*100/(W[i]+Electri[i]+Electro[i])\n",
    "Electricidad"
   ]
  },
  {
   "cell_type": "code",
   "execution_count": 27,
   "metadata": {},
   "outputs": [
    {
     "data": {
      "text/plain": [
       "24.25833636619712"
      ]
     },
     "execution_count": 27,
     "metadata": {},
     "output_type": "execute_result"
    }
   ],
   "source": [
    "Electrolizador=Electro[i]*100/(W[i]+Electri[i]+Electro[i])\n",
    "Electrolizador"
   ]
  },
  {
   "cell_type": "code",
   "execution_count": 28,
   "metadata": {},
   "outputs": [
    {
     "data": {
      "image/png": "[encoded data removed]",
      "text/plain": [
       "<Figure size 576x288 with 1 Axes>"
      ]
     },
     "metadata": {},
     "output_type": "display_data"
    }
   ],
   "source": [
    "fig, ax = plt.subplots(figsize=(8, 4), tight_layout=True, facecolor='w')\n",
    "\n",
    "ax.plot(pd.date_range(start='1/1/2021', end='01/01/2022',periods=8760),prod,c=\"tab:orange\")\n",
    "ax.set_ylabel('kW')\n",
    "ax.set_xlabel('Hours of the year')\n",
    "#ax.set_title('Hourly energy generated by the CSP system and hydrogen production')\n",
    "#ax.legend(loc=2, ncol=3, bbox_to_anchor=(0.7, 0.2))\n",
    "fig.autofmt_xdate()\n",
    "#ax2 = ax.twinx()\n",
    "#ax2.set_ylabel('kg/h')  # we already handled the x-label with ax1\n",
    "#ax2.plot(pd.date_range(start='1/1/2021', end='01/01/2022',periods=8760),np.array(prod)*0.7/33.3,label='Hydrogen',c=\"tab:orange\")"
   ]
  },
  {
   "cell_type": "code",
   "execution_count": 29,
   "metadata": {},
   "outputs": [],
   "source": [
    "gen_csp=list(np.array(system_model_csp.Outputs.gen)*0.96)\n",
    "Sum_Enero=sum(gen_csp[0:744])\n",
    "Sum_Febrero=sum(gen_csp[744:1416])\n",
    "Sum_Marzo=sum(gen_csp[1416:2160])\n",
    "Sum_Abril=sum(gen_csp[2160:2880])\n",
    "Sum_Mayo=sum(gen_csp[2880:3624])\n",
    "Sum_Junio=sum(gen_csp[3624:4344])\n",
    "Sum_Julio=sum(gen_csp[4344:5088])\n",
    "Sum_Agosto=sum(gen_csp[5088:5832])\n",
    "Sum_Septiembre=sum(gen_csp[5832:6552])\n",
    "Sum_Octubre=sum(gen_csp[6552:7296])\n",
    "Sum_Noviembre=sum(gen_csp[7296:8016])\n",
    "Sum_Diciembre=sum(gen_csp[8016:8760])\n",
    "\n",
    "Production =[Sum_Enero, Sum_Febrero, Sum_Marzo, Sum_Abril, Sum_Mayo, Sum_Junio, Sum_Julio, Sum_Agosto, Sum_Septiembre, Sum_Octubre, Sum_Noviembre,Sum_Diciembre]"
   ]
  },
  {
   "cell_type": "code",
   "execution_count": 30,
   "metadata": {},
   "outputs": [],
   "source": [
    "LHV=33.3 #(kWh/KgH2)\n",
    "eff_PEM=0.56\n",
    "eff_ALK=0.63\n",
    "\n",
    "df1=pd.DataFrame(Production)\n",
    "df1[\"PEM\"]=(df1[0]/(LHV/eff_PEM + 6.4))*(LHV/eff_PEM)\n",
    "df1[\"Liq\"]=(df1[0]/(LHV/eff_PEM + 6.4))*6.4\n",
    "df1[\"Alk\"]=(df1[0]/(LHV/eff_ALK + 6.4))*(LHV/eff_ALK)\n",
    "df1[\"Liq1\"]=(df1[0]/(LHV/eff_ALK + 6.4))*6.4\n",
    "df1[\"PEM1\"]=(df1[0]/(LHV/eff_PEM + 1.05))*(LHV/eff_PEM)\n",
    "df1[\"Comp\"]=(df1[0]/(LHV/eff_PEM + 1.05))*1.05\n",
    "df1[\"Alk1\"]=(df1[0]/(LHV/eff_ALK + 1.05))*(LHV/eff_ALK)\n",
    "df1[\"Comp1\"]=(df1[0]/(LHV/eff_ALK + 1.05))*1.05\n",
    "\n",
    "Months=[\"Jan\",\"Feb\",\"Mar\",\"Apr\",\"May\",\"Jun\",\"Jul\",\"Aug\",\"Sept\",\"Oct\",\"Nov\",\"Dec\"]\n",
    "df1.index=Months\n",
    "df1.columns=[\"Energy\", \"PEM\",\"Liq\",\"Alk\",\"Liq1\",\"PEM1\",\"Comp\",\"Alk1\",\"Comp1\"]"
   ]
  },
  {
   "cell_type": "code",
   "execution_count": 31,
   "metadata": {},
   "outputs": [
    {
     "name": "stderr",
     "output_type": "stream",
     "text": [
      "<ipython-input-31-227635ad8283>:21: UserWarning: FixedFormatter should only be used together with FixedLocator\n",
      "  ax[0, 0].set_xticklabels(Months)\n",
      "<ipython-input-31-227635ad8283>:40: UserWarning: FixedFormatter should only be used together with FixedLocator\n",
      "  ax[0, 1].set_xticklabels(Months)\n",
      "<ipython-input-31-227635ad8283>:59: UserWarning: FixedFormatter should only be used together with FixedLocator\n",
      "  ax[1, 0].set_xticklabels(Months)\n",
      "<ipython-input-31-227635ad8283>:78: UserWarning: FixedFormatter should only be used together with FixedLocator\n",
      "  ax[1, 1].set_xticklabels(Months)\n"
     ]
    },
    {
     "data": {
      "image/png": "[encoded data removed]",
      "text/plain": [
       "<Figure size 1080x720 with 4 Axes>"
      ]
     },
     "metadata": {
      "needs_background": "light"
     },
     "output_type": "display_data"
    }
   ],
   "source": [
    "x=range(12)\n",
    "fig, ax = plt.subplots(2, 2, constrained_layout=False)\n",
    "\n",
    "fig.set_size_inches(15, 10)\n",
    "\n",
    "ax[0, 0].bar(x=range(12), \n",
    "       height=df1[\"PEM\"],\n",
    "       label='PEM',\n",
    "       width=0.8, bottom=0, align='center', \n",
    "       color=None, edgecolor=None, linewidth=None); \n",
    "ax[0, 0].bar(x=range(12), \n",
    "       height=df1[\"Liq\"],\n",
    "       bottom=df1[\"PEM\"],\n",
    "       label='Liq',\n",
    "       #width=0.8, bottom=0, align='center', \n",
    "       color=None, edgecolor=None, linewidth=None); \n",
    "ax[0, 0].set_ylabel('kWh')\n",
    "#ax[0, 0].set_xlabel('Months')\n",
    "#ax[0, 0].set_title('Monthly system power generated')\n",
    "ax[0, 0].legend(loc=1, ncol=3, bbox_to_anchor=(0.65, 1))\n",
    "ax[0, 0].set_xticklabels(Months)\n",
    "ax[0, 0].set_xticks(range(12))\n",
    "ax[0, 0].grid(alpha=0.5,axis='y')\n",
    "\n",
    "ax[0, 1].bar(x=range(12), \n",
    "       height=df1[\"Alk\"],\n",
    "       label='Alk',\n",
    "       width=0.8, bottom=0, align='center', \n",
    "       color=None, edgecolor=None, linewidth=None); \n",
    "ax[0, 1].bar(x=range(12), \n",
    "       height=df1[\"Liq1\"],\n",
    "       bottom=df1[\"Alk\"],\n",
    "       label='Liq',\n",
    "       #width=0.8, bottom=0, align='center', \n",
    "       color=None, edgecolor=None, linewidth=None); \n",
    "ax[0, 1].set_ylabel('kWh')\n",
    "#ax[0, 1].set_xlabel('Months')\n",
    "#ax[0, 1].set_title('Monthly system power generated')\n",
    "ax[0, 1].legend(loc=1, ncol=3, bbox_to_anchor=(0.65, 1))\n",
    "ax[0, 1].set_xticklabels(Months)\n",
    "ax[0, 1].set_xticks(x)\n",
    "ax[0, 1].grid(alpha=0.5,axis='y')\n",
    "\n",
    "ax[1, 0].bar(x=range(12), \n",
    "       height=df1[\"PEM1\"],\n",
    "       label='PEM',\n",
    "       width=0.8, bottom=0, align='center', \n",
    "       color=None, edgecolor=None, linewidth=None); \n",
    "ax[1, 0].bar(x=range(12), \n",
    "       height=df1[\"Comp\"],\n",
    "       bottom=df1[\"PEM1\"],\n",
    "       label='Comp',\n",
    "       #width=0.8, bottom=0, align='center', \n",
    "       color=None, edgecolor=None, linewidth=None); \n",
    "ax[1, 0].set_ylabel('kWh')\n",
    "#ax[1, 0].set_xlabel('Months')\n",
    "#ax[1, 0].set_title('Monthly system power generated')\n",
    "ax[1, 0].legend(loc=1, ncol=3, bbox_to_anchor=(0.65, 1))\n",
    "ax[1, 0].set_xticklabels(Months)\n",
    "ax[1, 0].set_xticks(x)\n",
    "ax[1, 0].grid(alpha=0.5,axis='y')\n",
    "\n",
    "ax[1, 1].bar(x=range(12), \n",
    "       height=df1[\"Alk1\"],\n",
    "       label='Alk',\n",
    "       width=0.8, bottom=0, align='center', \n",
    "       color=None, edgecolor=None, linewidth=None); \n",
    "ax[1, 1].bar(x=range(12), \n",
    "       height=df1[\"Comp1\"],\n",
    "       bottom=df1[\"Alk1\"],\n",
    "       label='Comp',\n",
    "       #width=0.8, bottom=0, align='center', \n",
    "       color=None, edgecolor=None, linewidth=None); \n",
    "ax[1, 1].set_ylabel('kWh')\n",
    "#ax[1, 1].set_xlabel('Months')\n",
    "#ax[1, 1].set_title('Monthly system power generated')\n",
    "ax[1, 1].legend(loc=1, ncol=3, bbox_to_anchor=(0.65, 1))\n",
    "ax[1, 1].set_xticklabels(Months)\n",
    "ax[1, 1].set_xticks(x)\n",
    "ax[1, 1].grid(alpha=0.5,axis='y')"
   ]
  },
  {
   "cell_type": "code",
   "execution_count": 32,
   "metadata": {},
   "outputs": [],
   "source": [
    "#2021\n",
    "LHV=33.3 #(kWh/KgH2)\n",
    "eff_PEM=0.56\n",
    "eff_ALK=0.63\n",
    "H2_PEM_Liq=(np.array(Production)/(LHV/eff_PEM+6.4))*(1/1000)\n",
    "H2_PEM_Comp=(np.array(Production)/(LHV/eff_PEM+1.05))*(1/1000)\n",
    "H2_Alk_Liq=(np.array(Production)/(LHV/eff_ALK+6.4))*(1/1000)\n",
    "H2_Alk_Comp=(np.array(Production)/(LHV/eff_ALK+1.05))*(1/1000)"
   ]
  },
  {
   "cell_type": "code",
   "execution_count": 33,
   "metadata": {},
   "outputs": [
    {
     "name": "stderr",
     "output_type": "stream",
     "text": [
      "<ipython-input-33-b0e8452f57cc>:28: UserWarning: FixedFormatter should only be used together with FixedLocator\n",
      "  ax.set_xticklabels(Months)\n"
     ]
    },
    {
     "data": {
      "image/png": "[encoded data removed]",
      "text/plain": [
       "<Figure size 576x288 with 1 Axes>"
      ]
     },
     "metadata": {},
     "output_type": "display_data"
    }
   ],
   "source": [
    "fig, ax = plt.subplots(figsize=(8, 4), tight_layout=True, facecolor='w')\n",
    "y=np.arange(12)\n",
    "width1 = 0.2\n",
    "ax.bar(y - 1.5*width1,\n",
    "       height=H2_PEM_Liq,\n",
    "       label=\"PEM - Liq\",\n",
    "       width=0.2, color=\"#4059AD\"); \n",
    "\n",
    "ax.bar(y +1.5*width1, \n",
    "       height=H2_PEM_Comp,\n",
    "       label='PEM - Comp',\n",
    "       width=0.2,color=\"#6B9AC4\"); \n",
    "\n",
    "ax.bar(y-0.5*width1, \n",
    "       height=H2_Alk_Liq,\n",
    "       label='Alk - Liq',\n",
    "       width=0.2,color=\"#97D8C4\"); \n",
    "\n",
    "ax.bar(y + 0.5*width1, \n",
    "       height=H2_Alk_Comp,\n",
    "       label='Alk - Comp',\n",
    "       width=0.2, color=\"#F4B942\"); \n",
    "       \n",
    "ax.set_ylabel('Tons of hydrogen')\n",
    "ax.set_xlabel('Months')\n",
    "#ax.set_title('Monthly Hydrogen Production 2021')\n",
    "ax.legend(loc=1, ncol=4, bbox_to_anchor=(1, 0.1))\n",
    "ax.set_xticklabels(Months)\n",
    "ax.set_xticks(y)\n",
    "ax.grid(alpha=0.5,axis='y')"
   ]
  },
  {
   "cell_type": "code",
   "execution_count": 34,
   "metadata": {},
   "outputs": [],
   "source": [
    "#2030\n",
    "LHV=33.3 #(kWh/KgH2)\n",
    "eff_PEM=0.63\n",
    "eff_ALK=0.65\n",
    "H2_PEM_Liq=(np.array(Production)/(LHV/eff_PEM+6.4))*(1/1000)\n",
    "H2_PEM_Comp=(np.array(Production)/(LHV/eff_PEM+1.05))*(1/1000)\n",
    "H2_Alk_Liq=(np.array(Production)/(LHV/eff_ALK+6.4))*(1/1000)\n",
    "H2_Alk_Comp=(np.array(Production)/(LHV/eff_ALK+1.05))*(1/1000)"
   ]
  },
  {
   "cell_type": "code",
   "execution_count": 35,
   "metadata": {},
   "outputs": [
    {
     "name": "stderr",
     "output_type": "stream",
     "text": [
      "<ipython-input-35-ba7c43fc328e>:28: UserWarning: FixedFormatter should only be used together with FixedLocator\n",
      "  ax.set_xticklabels(Months)\n"
     ]
    },
    {
     "data": {
      "image/png": "[encoded data removed]",
      "text/plain": [
       "<Figure size 576x288 with 1 Axes>"
      ]
     },
     "metadata": {},
     "output_type": "display_data"
    }
   ],
   "source": [
    "fig, ax = plt.subplots(figsize=(8, 4), tight_layout=True, facecolor='w')\n",
    "y=np.arange(12)\n",
    "width1 = 0.2\n",
    "ax.bar(y - 1.5*width1, \n",
    "       height=H2_PEM_Liq,\n",
    "       label=\"PEM - Liq\",\n",
    "       width=0.2, color=\"#4059AD\"); \n",
    "\n",
    "ax.bar(y +1.5*width1, \n",
    "       height=H2_PEM_Comp,\n",
    "       label='PEM - Comp',\n",
    "       width=0.2,color=\"#6B9AC4\"); \n",
    "\n",
    "ax.bar(y-0.5*width1, \n",
    "       height=H2_Alk_Liq,\n",
    "       label='Alk - Liq',\n",
    "       width=0.2,color=\"#97D8C4\"); \n",
    "\n",
    "ax.bar(y + 0.5*width1, \n",
    "       height=H2_Alk_Comp,\n",
    "       label='Alk - Comp',\n",
    "       width=0.2, color=\"#F4B942\"); \n",
    "       \n",
    "ax.set_ylabel('Tons of hydrogen')\n",
    "ax.set_xlabel('Months')\n",
    "#ax.set_title('Monthly Hydrogen Production 2021')\n",
    "ax.legend(loc=1, ncol=4, bbox_to_anchor=(1, 0.1))\n",
    "ax.set_xticklabels(Months)\n",
    "ax.set_xticks(y)\n",
    "ax.grid(alpha=0.5,axis='y')"
   ]
  },
  {
   "cell_type": "code",
   "execution_count": 36,
   "metadata": {},
   "outputs": [],
   "source": [
    "day_prod=(sum(prod)/365)*0.63/33.3\n",
    "flow_max=np.array(prod).max()*0.63/33.3"
   ]
  },
  {
   "cell_type": "code",
   "execution_count": 37,
   "metadata": {},
   "outputs": [],
   "source": [
    "#Compressed hydrogen gas storage system\n",
    "\n",
    "i=0.07\n",
    "n_conversion=15\n",
    "n_storage=20\n",
    "\n",
    "FRC_conversion=(i*((1+i)**n_conversion))/(((1+i)**n_conversion)-1)\n",
    "FRC_storage=(i*((1+i)**n_storage))/(((1+i)**n_storage)-1)\n",
    "\n",
    "M_storage=2/100\n",
    "M_conversion=4/100\n",
    "\n",
    "storage_module=500*day_prod*((FRC_storage+M_storage)/(sum(prod)*0.63/33.3))  #USD\n",
    "conversion_module=3900*flow_max*1.05*((FRC_conversion+M_conversion)/(sum(prod)*0.63/33.3))\n",
    "\n",
    "GH2=storage_module+conversion_module"
   ]
  },
  {
   "cell_type": "code",
   "execution_count": 38,
   "metadata": {},
   "outputs": [
    {
     "data": {
      "text/plain": [
       "0.23473569205339484"
      ]
     },
     "execution_count": 38,
     "metadata": {},
     "output_type": "execute_result"
    }
   ],
   "source": [
    "GH2"
   ]
  },
  {
   "cell_type": "code",
   "execution_count": 39,
   "metadata": {},
   "outputs": [],
   "source": [
    "#Liquid hydrogen\n",
    "\n",
    "i=0.07\n",
    "n_conversion=20\n",
    "n_storage=20\n",
    "\n",
    "FRC_conversion=(i*((1+i)**n_conversion))/(((1+i)**n_conversion)-1)\n",
    "FRC_storage=(i*((1+i)**n_storage))/(((1+i)**n_storage)-1)\n",
    "\n",
    "M_storage=2/100\n",
    "M_conversion=8/100\n",
    "\n",
    "\n",
    "\n",
    "storage_module=90*day_prod*((FRC_storage+M_storage)/(sum(prod)*0.63/33.3))  #USD\n",
    "conversion_module=50000*flow_max*((FRC_conversion+M_conversion)/(sum(prod)*0.63/33.3))\n",
    "LH2=storage_module+conversion_module"
   ]
  },
  {
   "cell_type": "code",
   "execution_count": 40,
   "metadata": {},
   "outputs": [
    {
     "data": {
      "text/plain": [
       "1.1374511112214691"
      ]
     },
     "execution_count": 40,
     "metadata": {},
     "output_type": "execute_result"
    }
   ],
   "source": [
    "LH2"
   ]
  }
 ],
 "metadata": {
  "kernelspec": {
   "display_name": "Python 3",
   "language": "python",
   "name": "python3"
  },
  "language_info": {
   "codemirror_mode": {
    "name": "ipython",
    "version": 3
   },
   "file_extension": ".py",
   "mimetype": "text/x-python",
   "name": "python",
   "nbconvert_exporter": "python",
   "pygments_lexer": "ipython3",
   "version": "3.8.5"
  }
 },
 "nbformat": 4,
 "nbformat_minor": 4
}
